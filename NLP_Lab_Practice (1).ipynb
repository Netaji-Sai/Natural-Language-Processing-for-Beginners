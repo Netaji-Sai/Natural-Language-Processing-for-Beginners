{
  "nbformat": 4,
  "nbformat_minor": 0,
  "metadata": {
    "colab": {
      "provenance": []
    },
    "kernelspec": {
      "name": "python3",
      "display_name": "Python 3"
    },
    "language_info": {
      "name": "python"
    }
  },
  "cells": [
    {
      "cell_type": "markdown",
      "source": [
        "5.Write a program to split sentences in a document"
      ],
      "metadata": {
        "id": "PG7QVp2aQfss"
      }
    },
    {
      "cell_type": "code",
      "source": [
        "from google.colab import files\n",
        "from nltk.tokenize import sent_tokenize\n",
        "\n",
        "document = files.upload()\n",
        "path = next(iter(document))\n",
        "with open(path,\"r\") as f:\n",
        "  text = f.read()\n",
        "\n",
        "sentences = sent_tokenize(text)\n",
        "print(sentences)"
      ],
      "metadata": {
        "colab": {
          "base_uri": "https://localhost:8080/",
          "height": 110
        },
        "id": "Y2r4H-eqMumb",
        "outputId": "85044537-9bf1-49a6-c3d5-960e0e98ec86"
      },
      "execution_count": null,
      "outputs": [
        {
          "output_type": "display_data",
          "data": {
            "text/plain": [
              "<IPython.core.display.HTML object>"
            ],
            "text/html": [
              "\n",
              "     <input type=\"file\" id=\"files-e7c9c107-e1cb-4715-8ba1-8b9736e64a7e\" name=\"files[]\" multiple disabled\n",
              "        style=\"border:none\" />\n",
              "     <output id=\"result-e7c9c107-e1cb-4715-8ba1-8b9736e64a7e\">\n",
              "      Upload widget is only available when the cell has been executed in the\n",
              "      current browser session. Please rerun this cell to enable.\n",
              "      </output>\n",
              "      <script>// Copyright 2017 Google LLC\n",
              "//\n",
              "// Licensed under the Apache License, Version 2.0 (the \"License\");\n",
              "// you may not use this file except in compliance with the License.\n",
              "// You may obtain a copy of the License at\n",
              "//\n",
              "//      http://www.apache.org/licenses/LICENSE-2.0\n",
              "//\n",
              "// Unless required by applicable law or agreed to in writing, software\n",
              "// distributed under the License is distributed on an \"AS IS\" BASIS,\n",
              "// WITHOUT WARRANTIES OR CONDITIONS OF ANY KIND, either express or implied.\n",
              "// See the License for the specific language governing permissions and\n",
              "// limitations under the License.\n",
              "\n",
              "/**\n",
              " * @fileoverview Helpers for google.colab Python module.\n",
              " */\n",
              "(function(scope) {\n",
              "function span(text, styleAttributes = {}) {\n",
              "  const element = document.createElement('span');\n",
              "  element.textContent = text;\n",
              "  for (const key of Object.keys(styleAttributes)) {\n",
              "    element.style[key] = styleAttributes[key];\n",
              "  }\n",
              "  return element;\n",
              "}\n",
              "\n",
              "// Max number of bytes which will be uploaded at a time.\n",
              "const MAX_PAYLOAD_SIZE = 100 * 1024;\n",
              "\n",
              "function _uploadFiles(inputId, outputId) {\n",
              "  const steps = uploadFilesStep(inputId, outputId);\n",
              "  const outputElement = document.getElementById(outputId);\n",
              "  // Cache steps on the outputElement to make it available for the next call\n",
              "  // to uploadFilesContinue from Python.\n",
              "  outputElement.steps = steps;\n",
              "\n",
              "  return _uploadFilesContinue(outputId);\n",
              "}\n",
              "\n",
              "// This is roughly an async generator (not supported in the browser yet),\n",
              "// where there are multiple asynchronous steps and the Python side is going\n",
              "// to poll for completion of each step.\n",
              "// This uses a Promise to block the python side on completion of each step,\n",
              "// then passes the result of the previous step as the input to the next step.\n",
              "function _uploadFilesContinue(outputId) {\n",
              "  const outputElement = document.getElementById(outputId);\n",
              "  const steps = outputElement.steps;\n",
              "\n",
              "  const next = steps.next(outputElement.lastPromiseValue);\n",
              "  return Promise.resolve(next.value.promise).then((value) => {\n",
              "    // Cache the last promise value to make it available to the next\n",
              "    // step of the generator.\n",
              "    outputElement.lastPromiseValue = value;\n",
              "    return next.value.response;\n",
              "  });\n",
              "}\n",
              "\n",
              "/**\n",
              " * Generator function which is called between each async step of the upload\n",
              " * process.\n",
              " * @param {string} inputId Element ID of the input file picker element.\n",
              " * @param {string} outputId Element ID of the output display.\n",
              " * @return {!Iterable<!Object>} Iterable of next steps.\n",
              " */\n",
              "function* uploadFilesStep(inputId, outputId) {\n",
              "  const inputElement = document.getElementById(inputId);\n",
              "  inputElement.disabled = false;\n",
              "\n",
              "  const outputElement = document.getElementById(outputId);\n",
              "  outputElement.innerHTML = '';\n",
              "\n",
              "  const pickedPromise = new Promise((resolve) => {\n",
              "    inputElement.addEventListener('change', (e) => {\n",
              "      resolve(e.target.files);\n",
              "    });\n",
              "  });\n",
              "\n",
              "  const cancel = document.createElement('button');\n",
              "  inputElement.parentElement.appendChild(cancel);\n",
              "  cancel.textContent = 'Cancel upload';\n",
              "  const cancelPromise = new Promise((resolve) => {\n",
              "    cancel.onclick = () => {\n",
              "      resolve(null);\n",
              "    };\n",
              "  });\n",
              "\n",
              "  // Wait for the user to pick the files.\n",
              "  const files = yield {\n",
              "    promise: Promise.race([pickedPromise, cancelPromise]),\n",
              "    response: {\n",
              "      action: 'starting',\n",
              "    }\n",
              "  };\n",
              "\n",
              "  cancel.remove();\n",
              "\n",
              "  // Disable the input element since further picks are not allowed.\n",
              "  inputElement.disabled = true;\n",
              "\n",
              "  if (!files) {\n",
              "    return {\n",
              "      response: {\n",
              "        action: 'complete',\n",
              "      }\n",
              "    };\n",
              "  }\n",
              "\n",
              "  for (const file of files) {\n",
              "    const li = document.createElement('li');\n",
              "    li.append(span(file.name, {fontWeight: 'bold'}));\n",
              "    li.append(span(\n",
              "        `(${file.type || 'n/a'}) - ${file.size} bytes, ` +\n",
              "        `last modified: ${\n",
              "            file.lastModifiedDate ? file.lastModifiedDate.toLocaleDateString() :\n",
              "                                    'n/a'} - `));\n",
              "    const percent = span('0% done');\n",
              "    li.appendChild(percent);\n",
              "\n",
              "    outputElement.appendChild(li);\n",
              "\n",
              "    const fileDataPromise = new Promise((resolve) => {\n",
              "      const reader = new FileReader();\n",
              "      reader.onload = (e) => {\n",
              "        resolve(e.target.result);\n",
              "      };\n",
              "      reader.readAsArrayBuffer(file);\n",
              "    });\n",
              "    // Wait for the data to be ready.\n",
              "    let fileData = yield {\n",
              "      promise: fileDataPromise,\n",
              "      response: {\n",
              "        action: 'continue',\n",
              "      }\n",
              "    };\n",
              "\n",
              "    // Use a chunked sending to avoid message size limits. See b/62115660.\n",
              "    let position = 0;\n",
              "    do {\n",
              "      const length = Math.min(fileData.byteLength - position, MAX_PAYLOAD_SIZE);\n",
              "      const chunk = new Uint8Array(fileData, position, length);\n",
              "      position += length;\n",
              "\n",
              "      const base64 = btoa(String.fromCharCode.apply(null, chunk));\n",
              "      yield {\n",
              "        response: {\n",
              "          action: 'append',\n",
              "          file: file.name,\n",
              "          data: base64,\n",
              "        },\n",
              "      };\n",
              "\n",
              "      let percentDone = fileData.byteLength === 0 ?\n",
              "          100 :\n",
              "          Math.round((position / fileData.byteLength) * 100);\n",
              "      percent.textContent = `${percentDone}% done`;\n",
              "\n",
              "    } while (position < fileData.byteLength);\n",
              "  }\n",
              "\n",
              "  // All done.\n",
              "  yield {\n",
              "    response: {\n",
              "      action: 'complete',\n",
              "    }\n",
              "  };\n",
              "}\n",
              "\n",
              "scope.google = scope.google || {};\n",
              "scope.google.colab = scope.google.colab || {};\n",
              "scope.google.colab._files = {\n",
              "  _uploadFiles,\n",
              "  _uploadFilesContinue,\n",
              "};\n",
              "})(self);\n",
              "</script> "
            ]
          },
          "metadata": {}
        },
        {
          "output_type": "stream",
          "name": "stdout",
          "text": [
            "Saving Coding test.txt to Coding test.txt\n",
            "['Interview Test for E-Commerce Website (Duration: 30 minutes)\\n\\nObjective:Build a mini e-commerce product card using HTML, CSS, and JavaScript.', 'Task:\\n\\n1.', 'HTML & CSS (15 minutes)\\n   - Create the HTML for a single product card.', 'It should include a product image, title, price, and an \"Add to Cart\" button.', '- Style the product card with CSS to be visually appealing and presentable.', '2.', 'JavaScript (15 minutes)\\n   - Write a JavaScript function that updates the number of items in the cart.', 'This function should execute when the \"Add to Cart\" button is clicked.', '- Display a simple alert to confirm that the item has been added to the cart.', 'Requirements:\\n\\n- The product card should be responsive and presentable on both desktop and mobile views.', '- Use vanilla JavaScript; no libraries or frameworks.', '- Bonus: Implement a simple toggle to switch between \"grid\" and \"list\" views of the product card.', 'Deliverables:\\n\\n- A single HTML file with inline CSS and a `<script>` tag containing JavaScript.', '- No external stylesheets or scripts.', 'Evaluation Criteria:\\n\\n- Semantic use of HTML tags.', '- Clean and organized CSS with attention to design principles.', '- Functional JavaScript that accurately reflects the item count in the cart.', '- Efficient and clean code, following best practices.', 'Note:\\n\\n- Candidates are allowed to use pseudocode for complex logic due to time constraints.', '- Candidates should explain their code and the choices they made as they go along.']\n"
          ]
        }
      ]
    },
    {
      "cell_type": "markdown",
      "source": [
        "6.Perform Tokenizationa and Stemming by reading input."
      ],
      "metadata": {
        "id": "djFXDP9kSxIc"
      }
    },
    {
      "cell_type": "code",
      "source": [
        "from nltk.tokenize import word_tokenize\n",
        "from nltk.stem import PorterStemmer\n",
        "\n",
        "nltk.download('punkt')\n",
        "\n",
        "inp = input()\n",
        "tokens = word_tokenize(inp)\n",
        "stemmer = PorterStemmer()\n",
        "stemmed_words = [stemmer.stem(tok) for tok in tokens]\n",
        "print(tokens)\n",
        "print(stemmed_words)"
      ],
      "metadata": {
        "colab": {
          "base_uri": "https://localhost:8080/"
        },
        "id": "BKsgCMMoQ6M7",
        "outputId": "ecf1a874-a661-4aa2-a163-d1aae9c394f0"
      },
      "execution_count": null,
      "outputs": [
        {
          "output_type": "stream",
          "name": "stderr",
          "text": [
            "[nltk_data] Downloading package punkt to /root/nltk_data...\n",
            "[nltk_data]   Package punkt is already up-to-date!\n"
          ]
        },
        {
          "output_type": "stream",
          "name": "stdout",
          "text": [
            "VIT-AP offers distinctive education through its Undergraduate, Postgraduate and Ph.D Programmes. The teaching-learning process at the institute prepares  students for the future. They are involved in an active process of applied learning with the help of experienced faculty who enable the students to channel their talent and intellect to contribute towards the development and sustainability of society. With an emphasis on innovation and applying technology to improve life, the institute offers the following programmes for students at various levels.   B.Tech.  BBA  LAW  B.A. - M.A.  B.Sc.  M.Sc.  B.Com.  M.TECH.  International  Ph.D.  Application Process  Fees & Scholarships  STARS  Affidavit  Refund Policies  Videos  INFORMATION Public Notice: University Act Application Process Academic Calendar IQAC  QUICK LINKS Academics Programmes Offered Careers National Scholarship Portal NAD / ABC Ideas for VIKSIT BHARAT@2047 Terms of use How to reach VIT-AP?\n",
            "['VIT-AP', 'offers', 'distinctive', 'education', 'through', 'its', 'Undergraduate', ',', 'Postgraduate', 'and', 'Ph.D', 'Programmes', '.', 'The', 'teaching-learning', 'process', 'at', 'the', 'institute', 'prepares', 'students', 'for', 'the', 'future', '.', 'They', 'are', 'involved', 'in', 'an', 'active', 'process', 'of', 'applied', 'learning', 'with', 'the', 'help', 'of', 'experienced', 'faculty', 'who', 'enable', 'the', 'students', 'to', 'channel', 'their', 'talent', 'and', 'intellect', 'to', 'contribute', 'towards', 'the', 'development', 'and', 'sustainability', 'of', 'society', '.', 'With', 'an', 'emphasis', 'on', 'innovation', 'and', 'applying', 'technology', 'to', 'improve', 'life', ',', 'the', 'institute', 'offers', 'the', 'following', 'programmes', 'for', 'students', 'at', 'various', 'levels', '.', 'B.Tech', '.', 'BBA', 'LAW', 'B.A', '.', '-', 'M.A', '.', 'B.Sc', '.', 'M.Sc', '.', 'B.Com', '.', 'M.TECH', '.', 'International', 'Ph.D', '.', 'Application', 'Process', 'Fees', '&', 'Scholarships', 'STARS', 'Affidavit', 'Refund', 'Policies', 'Videos', 'INFORMATION', 'Public', 'Notice', ':', 'University', 'Act', 'Application', 'Process', 'Academic', 'Calendar', 'IQAC', 'QUICK', 'LINKS', 'Academics', 'Programmes', 'Offered', 'Careers', 'National', 'Scholarship', 'Portal', 'NAD', '/', 'ABC', 'Ideas', 'for', 'VIKSIT', 'BHARAT', '@', '2047', 'Terms', 'of', 'use', 'How', 'to', 'reach', 'VIT-AP', '?']\n",
            "['vit-ap', 'offer', 'distinct', 'educ', 'through', 'it', 'undergradu', ',', 'postgradu', 'and', 'ph.d', 'programm', '.', 'the', 'teaching-learn', 'process', 'at', 'the', 'institut', 'prepar', 'student', 'for', 'the', 'futur', '.', 'they', 'are', 'involv', 'in', 'an', 'activ', 'process', 'of', 'appli', 'learn', 'with', 'the', 'help', 'of', 'experienc', 'faculti', 'who', 'enabl', 'the', 'student', 'to', 'channel', 'their', 'talent', 'and', 'intellect', 'to', 'contribut', 'toward', 'the', 'develop', 'and', 'sustain', 'of', 'societi', '.', 'with', 'an', 'emphasi', 'on', 'innov', 'and', 'appli', 'technolog', 'to', 'improv', 'life', ',', 'the', 'institut', 'offer', 'the', 'follow', 'programm', 'for', 'student', 'at', 'variou', 'level', '.', 'b.tech', '.', 'bba', 'law', 'b.a', '.', '-', 'm.a', '.', 'b.sc', '.', 'm.sc', '.', 'b.com', '.', 'm.tech', '.', 'intern', 'ph.d', '.', 'applic', 'process', 'fee', '&', 'scholarship', 'star', 'affidavit', 'refund', 'polici', 'video', 'inform', 'public', 'notic', ':', 'univers', 'act', 'applic', 'process', 'academ', 'calendar', 'iqac', 'quick', 'link', 'academ', 'programm', 'offer', 'career', 'nation', 'scholarship', 'portal', 'nad', '/', 'abc', 'idea', 'for', 'viksit', 'bharat', '@', '2047', 'term', 'of', 'use', 'how', 'to', 'reach', 'vit-ap', '?']\n"
          ]
        }
      ]
    },
    {
      "cell_type": "markdown",
      "source": [
        "7.Remove StopWords and RareWords in the document."
      ],
      "metadata": {
        "id": "4_sCJQcjTv6-"
      }
    },
    {
      "cell_type": "code",
      "source": [
        "from google.colab import files\n",
        "from nltk.tokenize import word_tokenize\n",
        "from nltk.corpus import stopwords\n",
        "from collections import Counter\n",
        "\n",
        "nltk.download('punkt')\n",
        "nltk.download('stopwords')\n",
        "\n",
        "doc = files.upload()\n",
        "path = next(iter(doc))\n",
        "with open(path,'r') as f:\n",
        "  text = f.read()\n",
        "\n",
        "tokens = word_tokenize(text)\n",
        "#StopWords\n",
        "stop_words = set(stopwords.words('english'))\n",
        "removed_stop = [tok for tok in tokens if tok not in stop_words]\n",
        "print(removed_stop)\n",
        "freq = Counter(tokens)\n",
        "removed_rare = [tok for tok in freq if freq[tok]>1]\n",
        "print(removed_rare)"
      ],
      "metadata": {
        "colab": {
          "base_uri": "https://localhost:8080/",
          "height": 197
        },
        "id": "f9L6AIGWTkMu",
        "outputId": "f8b73fca-0f8f-498b-b787-5022e7691c3f"
      },
      "execution_count": null,
      "outputs": [
        {
          "output_type": "stream",
          "name": "stderr",
          "text": [
            "[nltk_data] Downloading package punkt to /root/nltk_data...\n",
            "[nltk_data]   Package punkt is already up-to-date!\n",
            "[nltk_data] Downloading package stopwords to /root/nltk_data...\n",
            "[nltk_data]   Unzipping corpora/stopwords.zip.\n"
          ]
        },
        {
          "output_type": "display_data",
          "data": {
            "text/plain": [
              "<IPython.core.display.HTML object>"
            ],
            "text/html": [
              "\n",
              "     <input type=\"file\" id=\"files-78791970-b7a2-488e-ba7e-188bdda4c2ca\" name=\"files[]\" multiple disabled\n",
              "        style=\"border:none\" />\n",
              "     <output id=\"result-78791970-b7a2-488e-ba7e-188bdda4c2ca\">\n",
              "      Upload widget is only available when the cell has been executed in the\n",
              "      current browser session. Please rerun this cell to enable.\n",
              "      </output>\n",
              "      <script>// Copyright 2017 Google LLC\n",
              "//\n",
              "// Licensed under the Apache License, Version 2.0 (the \"License\");\n",
              "// you may not use this file except in compliance with the License.\n",
              "// You may obtain a copy of the License at\n",
              "//\n",
              "//      http://www.apache.org/licenses/LICENSE-2.0\n",
              "//\n",
              "// Unless required by applicable law or agreed to in writing, software\n",
              "// distributed under the License is distributed on an \"AS IS\" BASIS,\n",
              "// WITHOUT WARRANTIES OR CONDITIONS OF ANY KIND, either express or implied.\n",
              "// See the License for the specific language governing permissions and\n",
              "// limitations under the License.\n",
              "\n",
              "/**\n",
              " * @fileoverview Helpers for google.colab Python module.\n",
              " */\n",
              "(function(scope) {\n",
              "function span(text, styleAttributes = {}) {\n",
              "  const element = document.createElement('span');\n",
              "  element.textContent = text;\n",
              "  for (const key of Object.keys(styleAttributes)) {\n",
              "    element.style[key] = styleAttributes[key];\n",
              "  }\n",
              "  return element;\n",
              "}\n",
              "\n",
              "// Max number of bytes which will be uploaded at a time.\n",
              "const MAX_PAYLOAD_SIZE = 100 * 1024;\n",
              "\n",
              "function _uploadFiles(inputId, outputId) {\n",
              "  const steps = uploadFilesStep(inputId, outputId);\n",
              "  const outputElement = document.getElementById(outputId);\n",
              "  // Cache steps on the outputElement to make it available for the next call\n",
              "  // to uploadFilesContinue from Python.\n",
              "  outputElement.steps = steps;\n",
              "\n",
              "  return _uploadFilesContinue(outputId);\n",
              "}\n",
              "\n",
              "// This is roughly an async generator (not supported in the browser yet),\n",
              "// where there are multiple asynchronous steps and the Python side is going\n",
              "// to poll for completion of each step.\n",
              "// This uses a Promise to block the python side on completion of each step,\n",
              "// then passes the result of the previous step as the input to the next step.\n",
              "function _uploadFilesContinue(outputId) {\n",
              "  const outputElement = document.getElementById(outputId);\n",
              "  const steps = outputElement.steps;\n",
              "\n",
              "  const next = steps.next(outputElement.lastPromiseValue);\n",
              "  return Promise.resolve(next.value.promise).then((value) => {\n",
              "    // Cache the last promise value to make it available to the next\n",
              "    // step of the generator.\n",
              "    outputElement.lastPromiseValue = value;\n",
              "    return next.value.response;\n",
              "  });\n",
              "}\n",
              "\n",
              "/**\n",
              " * Generator function which is called between each async step of the upload\n",
              " * process.\n",
              " * @param {string} inputId Element ID of the input file picker element.\n",
              " * @param {string} outputId Element ID of the output display.\n",
              " * @return {!Iterable<!Object>} Iterable of next steps.\n",
              " */\n",
              "function* uploadFilesStep(inputId, outputId) {\n",
              "  const inputElement = document.getElementById(inputId);\n",
              "  inputElement.disabled = false;\n",
              "\n",
              "  const outputElement = document.getElementById(outputId);\n",
              "  outputElement.innerHTML = '';\n",
              "\n",
              "  const pickedPromise = new Promise((resolve) => {\n",
              "    inputElement.addEventListener('change', (e) => {\n",
              "      resolve(e.target.files);\n",
              "    });\n",
              "  });\n",
              "\n",
              "  const cancel = document.createElement('button');\n",
              "  inputElement.parentElement.appendChild(cancel);\n",
              "  cancel.textContent = 'Cancel upload';\n",
              "  const cancelPromise = new Promise((resolve) => {\n",
              "    cancel.onclick = () => {\n",
              "      resolve(null);\n",
              "    };\n",
              "  });\n",
              "\n",
              "  // Wait for the user to pick the files.\n",
              "  const files = yield {\n",
              "    promise: Promise.race([pickedPromise, cancelPromise]),\n",
              "    response: {\n",
              "      action: 'starting',\n",
              "    }\n",
              "  };\n",
              "\n",
              "  cancel.remove();\n",
              "\n",
              "  // Disable the input element since further picks are not allowed.\n",
              "  inputElement.disabled = true;\n",
              "\n",
              "  if (!files) {\n",
              "    return {\n",
              "      response: {\n",
              "        action: 'complete',\n",
              "      }\n",
              "    };\n",
              "  }\n",
              "\n",
              "  for (const file of files) {\n",
              "    const li = document.createElement('li');\n",
              "    li.append(span(file.name, {fontWeight: 'bold'}));\n",
              "    li.append(span(\n",
              "        `(${file.type || 'n/a'}) - ${file.size} bytes, ` +\n",
              "        `last modified: ${\n",
              "            file.lastModifiedDate ? file.lastModifiedDate.toLocaleDateString() :\n",
              "                                    'n/a'} - `));\n",
              "    const percent = span('0% done');\n",
              "    li.appendChild(percent);\n",
              "\n",
              "    outputElement.appendChild(li);\n",
              "\n",
              "    const fileDataPromise = new Promise((resolve) => {\n",
              "      const reader = new FileReader();\n",
              "      reader.onload = (e) => {\n",
              "        resolve(e.target.result);\n",
              "      };\n",
              "      reader.readAsArrayBuffer(file);\n",
              "    });\n",
              "    // Wait for the data to be ready.\n",
              "    let fileData = yield {\n",
              "      promise: fileDataPromise,\n",
              "      response: {\n",
              "        action: 'continue',\n",
              "      }\n",
              "    };\n",
              "\n",
              "    // Use a chunked sending to avoid message size limits. See b/62115660.\n",
              "    let position = 0;\n",
              "    do {\n",
              "      const length = Math.min(fileData.byteLength - position, MAX_PAYLOAD_SIZE);\n",
              "      const chunk = new Uint8Array(fileData, position, length);\n",
              "      position += length;\n",
              "\n",
              "      const base64 = btoa(String.fromCharCode.apply(null, chunk));\n",
              "      yield {\n",
              "        response: {\n",
              "          action: 'append',\n",
              "          file: file.name,\n",
              "          data: base64,\n",
              "        },\n",
              "      };\n",
              "\n",
              "      let percentDone = fileData.byteLength === 0 ?\n",
              "          100 :\n",
              "          Math.round((position / fileData.byteLength) * 100);\n",
              "      percent.textContent = `${percentDone}% done`;\n",
              "\n",
              "    } while (position < fileData.byteLength);\n",
              "  }\n",
              "\n",
              "  // All done.\n",
              "  yield {\n",
              "    response: {\n",
              "      action: 'complete',\n",
              "    }\n",
              "  };\n",
              "}\n",
              "\n",
              "scope.google = scope.google || {};\n",
              "scope.google.colab = scope.google.colab || {};\n",
              "scope.google.colab._files = {\n",
              "  _uploadFiles,\n",
              "  _uploadFilesContinue,\n",
              "};\n",
              "})(self);\n",
              "</script> "
            ]
          },
          "metadata": {}
        },
        {
          "output_type": "stream",
          "name": "stdout",
          "text": [
            "Saving Coding test.txt to Coding test (1).txt\n",
            "['Interview', 'Test', 'E-Commerce', 'Website', '(', 'Duration', ':', '30', 'minutes', ')', 'Objective', ':', 'Build', 'mini', 'e-commerce', 'product', 'card', 'using', 'HTML', ',', 'CSS', ',', 'JavaScript', '.', 'Task', ':', '1', '.', 'HTML', '&', 'CSS', '(', '15', 'minutes', ')', '-', 'Create', 'HTML', 'single', 'product', 'card', '.', 'It', 'include', 'product', 'image', ',', 'title', ',', 'price', ',', '``', 'Add', 'Cart', \"''\", 'button', '.', '-', 'Style', 'product', 'card', 'CSS', 'visually', 'appealing', 'presentable', '.', '2', '.', 'JavaScript', '(', '15', 'minutes', ')', '-', 'Write', 'JavaScript', 'function', 'updates', 'number', 'items', 'cart', '.', 'This', 'function', 'execute', '``', 'Add', 'Cart', \"''\", 'button', 'clicked', '.', '-', 'Display', 'simple', 'alert', 'confirm', 'item', 'added', 'cart', '.', 'Requirements', ':', '-', 'The', 'product', 'card', 'responsive', 'presentable', 'desktop', 'mobile', 'views', '.', '-', 'Use', 'vanilla', 'JavaScript', ';', 'libraries', 'frameworks', '.', '-', 'Bonus', ':', 'Implement', 'simple', 'toggle', 'switch', '``', 'grid', \"''\", '``', 'list', \"''\", 'views', 'product', 'card', '.', 'Deliverables', ':', '-', 'A', 'single', 'HTML', 'file', 'inline', 'CSS', '`', '<', 'script', '>', '`', 'tag', 'containing', 'JavaScript', '.', '-', 'No', 'external', 'stylesheets', 'scripts', '.', 'Evaluation', 'Criteria', ':', '-', 'Semantic', 'use', 'HTML', 'tags', '.', '-', 'Clean', 'organized', 'CSS', 'attention', 'design', 'principles', '.', '-', 'Functional', 'JavaScript', 'accurately', 'reflects', 'item', 'count', 'cart', '.', '-', 'Efficient', 'clean', 'code', ',', 'following', 'best', 'practices', '.', 'Note', ':', '-', 'Candidates', 'allowed', 'use', 'pseudocode', 'complex', 'logic', 'due', 'time', 'constraints', '.', '-', 'Candidates', 'explain', 'code', 'choices', 'made', 'go', 'along', '.']\n",
            "['for', '(', ':', 'minutes', ')', 'a', 'product', 'card', 'HTML', ',', 'CSS', 'and', 'JavaScript', '.', '15', '-', 'the', 'single', 'should', '``', 'Add', 'to', 'Cart', \"''\", 'button', 'with', 'be', 'presentable', 'function', 'that', 'of', 'in', 'cart', 'simple', 'item', 'views', 'or', '`', 'use', 'code', 'Candidates', 'they']\n"
          ]
        }
      ]
    },
    {
      "cell_type": "markdown",
      "source": [
        "8.Identify parts of speech in the document"
      ],
      "metadata": {
        "id": "PTaFj9YCWGsG"
      }
    },
    {
      "cell_type": "code",
      "source": [
        "from nltk import pos_tag\n",
        "\n",
        "nltk.download('averaged_perceptron_tagger')\n",
        "\n",
        "tags = list(pos_tag(tokens))\n",
        "print(tags)"
      ],
      "metadata": {
        "colab": {
          "base_uri": "https://localhost:8080/"
        },
        "id": "4ZQK79jVU8nA",
        "outputId": "22856549-d150-44fd-affc-47a2479b5c86"
      },
      "execution_count": null,
      "outputs": [
        {
          "output_type": "stream",
          "name": "stderr",
          "text": [
            "[nltk_data] Downloading package averaged_perceptron_tagger to\n",
            "[nltk_data]     /root/nltk_data...\n",
            "[nltk_data]   Unzipping taggers/averaged_perceptron_tagger.zip.\n"
          ]
        },
        {
          "output_type": "stream",
          "name": "stdout",
          "text": [
            "[('Interview', 'NNP'), ('Test', 'NNP'), ('for', 'IN'), ('E-Commerce', 'NNP'), ('Website', 'NNP'), ('(', '('), ('Duration', 'NNP'), (':', ':'), ('30', 'CD'), ('minutes', 'NNS'), (')', ')'), ('Objective', 'VBP'), (':', ':'), ('Build', 'VB'), ('a', 'DT'), ('mini', 'JJ'), ('e-commerce', 'JJ'), ('product', 'NN'), ('card', 'NN'), ('using', 'VBG'), ('HTML', 'NNP'), (',', ','), ('CSS', 'NNP'), (',', ','), ('and', 'CC'), ('JavaScript', 'NNP'), ('.', '.'), ('Task', 'NN'), (':', ':'), ('1', 'CD'), ('.', '.'), ('HTML', 'NNP'), ('&', 'CC'), ('CSS', 'NNP'), ('(', '('), ('15', 'CD'), ('minutes', 'NNS'), (')', ')'), ('-', ':'), ('Create', 'VB'), ('the', 'DT'), ('HTML', 'NNP'), ('for', 'IN'), ('a', 'DT'), ('single', 'JJ'), ('product', 'NN'), ('card', 'NN'), ('.', '.'), ('It', 'PRP'), ('should', 'MD'), ('include', 'VB'), ('a', 'DT'), ('product', 'NN'), ('image', 'NN'), (',', ','), ('title', 'NN'), (',', ','), ('price', 'NN'), (',', ','), ('and', 'CC'), ('an', 'DT'), ('``', '``'), ('Add', 'NNP'), ('to', 'TO'), ('Cart', 'NNP'), (\"''\", \"''\"), ('button', 'NN'), ('.', '.'), ('-', ':'), ('Style', 'VBZ'), ('the', 'DT'), ('product', 'NN'), ('card', 'NN'), ('with', 'IN'), ('CSS', 'NNP'), ('to', 'TO'), ('be', 'VB'), ('visually', 'RB'), ('appealing', 'VBG'), ('and', 'CC'), ('presentable', 'JJ'), ('.', '.'), ('2', 'CD'), ('.', '.'), ('JavaScript', 'NNP'), ('(', '('), ('15', 'CD'), ('minutes', 'NNS'), (')', ')'), ('-', ':'), ('Write', 'VB'), ('a', 'DT'), ('JavaScript', 'NNP'), ('function', 'NN'), ('that', 'WDT'), ('updates', 'VBZ'), ('the', 'DT'), ('number', 'NN'), ('of', 'IN'), ('items', 'NNS'), ('in', 'IN'), ('the', 'DT'), ('cart', 'NN'), ('.', '.'), ('This', 'DT'), ('function', 'NN'), ('should', 'MD'), ('execute', 'VB'), ('when', 'WRB'), ('the', 'DT'), ('``', '``'), ('Add', 'NNP'), ('to', 'TO'), ('Cart', 'NNP'), (\"''\", \"''\"), ('button', 'NN'), ('is', 'VBZ'), ('clicked', 'VBN'), ('.', '.'), ('-', ':'), ('Display', 'NN'), ('a', 'DT'), ('simple', 'JJ'), ('alert', 'NN'), ('to', 'TO'), ('confirm', 'VB'), ('that', 'IN'), ('the', 'DT'), ('item', 'NN'), ('has', 'VBZ'), ('been', 'VBN'), ('added', 'VBN'), ('to', 'TO'), ('the', 'DT'), ('cart', 'NN'), ('.', '.'), ('Requirements', 'NNS'), (':', ':'), ('-', ':'), ('The', 'DT'), ('product', 'NN'), ('card', 'NN'), ('should', 'MD'), ('be', 'VB'), ('responsive', 'JJ'), ('and', 'CC'), ('presentable', 'JJ'), ('on', 'IN'), ('both', 'DT'), ('desktop', 'NN'), ('and', 'CC'), ('mobile', 'JJ'), ('views', 'NNS'), ('.', '.'), ('-', ':'), ('Use', 'NN'), ('vanilla', 'NN'), ('JavaScript', 'NNP'), (';', ':'), ('no', 'DT'), ('libraries', 'NNS'), ('or', 'CC'), ('frameworks', 'NNS'), ('.', '.'), ('-', ':'), ('Bonus', 'NN'), (':', ':'), ('Implement', 'NN'), ('a', 'DT'), ('simple', 'JJ'), ('toggle', 'NN'), ('to', 'TO'), ('switch', 'VB'), ('between', 'IN'), ('``', '``'), ('grid', 'JJ'), (\"''\", \"''\"), ('and', 'CC'), ('``', '``'), ('list', 'NN'), (\"''\", \"''\"), ('views', 'NNS'), ('of', 'IN'), ('the', 'DT'), ('product', 'NN'), ('card', 'NN'), ('.', '.'), ('Deliverables', 'NNS'), (':', ':'), ('-', ':'), ('A', 'DT'), ('single', 'JJ'), ('HTML', 'NNP'), ('file', 'NN'), ('with', 'IN'), ('inline', 'JJ'), ('CSS', 'NNP'), ('and', 'CC'), ('a', 'DT'), ('`', '``'), ('<', 'JJ'), ('script', 'NN'), ('>', 'NNP'), ('`', '``'), ('tag', 'NN'), ('containing', 'NN'), ('JavaScript', 'NNP'), ('.', '.'), ('-', ':'), ('No', 'DT'), ('external', 'JJ'), ('stylesheets', 'NNS'), ('or', 'CC'), ('scripts', 'NNS'), ('.', '.'), ('Evaluation', 'NN'), ('Criteria', 'NNS'), (':', ':'), ('-', ':'), ('Semantic', 'JJ'), ('use', 'NN'), ('of', 'IN'), ('HTML', 'NNP'), ('tags', 'NNS'), ('.', '.'), ('-', ':'), ('Clean', 'JJ'), ('and', 'CC'), ('organized', 'VBN'), ('CSS', 'NNP'), ('with', 'IN'), ('attention', 'NN'), ('to', 'TO'), ('design', 'VB'), ('principles', 'NNS'), ('.', '.'), ('-', ':'), ('Functional', 'JJ'), ('JavaScript', 'NNP'), ('that', 'WDT'), ('accurately', 'RB'), ('reflects', 'VBZ'), ('the', 'DT'), ('item', 'NN'), ('count', 'NN'), ('in', 'IN'), ('the', 'DT'), ('cart', 'NN'), ('.', '.'), ('-', ':'), ('Efficient', 'NN'), ('and', 'CC'), ('clean', 'JJ'), ('code', 'NN'), (',', ','), ('following', 'VBG'), ('best', 'JJS'), ('practices', 'NNS'), ('.', '.'), ('Note', 'NN'), (':', ':'), ('-', ':'), ('Candidates', 'NNS'), ('are', 'VBP'), ('allowed', 'VBN'), ('to', 'TO'), ('use', 'VB'), ('pseudocode', 'NN'), ('for', 'IN'), ('complex', 'JJ'), ('logic', 'NN'), ('due', 'JJ'), ('to', 'TO'), ('time', 'NN'), ('constraints', 'NNS'), ('.', '.'), ('-', ':'), ('Candidates', 'NNS'), ('should', 'MD'), ('explain', 'VB'), ('their', 'PRP$'), ('code', 'NN'), ('and', 'CC'), ('the', 'DT'), ('choices', 'NNS'), ('they', 'PRP'), ('made', 'VBD'), ('as', 'IN'), ('they', 'PRP'), ('go', 'VBP'), ('along', 'RB'), ('.', '.')]\n"
          ]
        }
      ]
    },
    {
      "cell_type": "markdown",
      "source": [
        "9.Implement N-Gram Tagger"
      ],
      "metadata": {
        "id": "DbUHmKaYWj_q"
      }
    },
    {
      "cell_type": "code",
      "source": [
        "from nltk.util import ngrams\n",
        "\n",
        "n_grams = list(ngrams(tags,3))\n",
        "\n",
        "print(n_grams)"
      ],
      "metadata": {
        "colab": {
          "base_uri": "https://localhost:8080/"
        },
        "id": "-DU-24oNWijQ",
        "outputId": "57403d74-d330-49ac-b231-53160a14271e"
      },
      "execution_count": null,
      "outputs": [
        {
          "output_type": "stream",
          "name": "stdout",
          "text": [
            "[(('Interview', 'NNP'), ('Test', 'NNP'), ('for', 'IN')), (('Test', 'NNP'), ('for', 'IN'), ('E-Commerce', 'NNP')), (('for', 'IN'), ('E-Commerce', 'NNP'), ('Website', 'NNP')), (('E-Commerce', 'NNP'), ('Website', 'NNP'), ('(', '(')), (('Website', 'NNP'), ('(', '('), ('Duration', 'NNP')), (('(', '('), ('Duration', 'NNP'), (':', ':')), (('Duration', 'NNP'), (':', ':'), ('30', 'CD')), ((':', ':'), ('30', 'CD'), ('minutes', 'NNS')), (('30', 'CD'), ('minutes', 'NNS'), (')', ')')), (('minutes', 'NNS'), (')', ')'), ('Objective', 'VBP')), ((')', ')'), ('Objective', 'VBP'), (':', ':')), (('Objective', 'VBP'), (':', ':'), ('Build', 'VB')), ((':', ':'), ('Build', 'VB'), ('a', 'DT')), (('Build', 'VB'), ('a', 'DT'), ('mini', 'JJ')), (('a', 'DT'), ('mini', 'JJ'), ('e-commerce', 'JJ')), (('mini', 'JJ'), ('e-commerce', 'JJ'), ('product', 'NN')), (('e-commerce', 'JJ'), ('product', 'NN'), ('card', 'NN')), (('product', 'NN'), ('card', 'NN'), ('using', 'VBG')), (('card', 'NN'), ('using', 'VBG'), ('HTML', 'NNP')), (('using', 'VBG'), ('HTML', 'NNP'), (',', ',')), (('HTML', 'NNP'), (',', ','), ('CSS', 'NNP')), ((',', ','), ('CSS', 'NNP'), (',', ',')), (('CSS', 'NNP'), (',', ','), ('and', 'CC')), ((',', ','), ('and', 'CC'), ('JavaScript', 'NNP')), (('and', 'CC'), ('JavaScript', 'NNP'), ('.', '.')), (('JavaScript', 'NNP'), ('.', '.'), ('Task', 'NN')), (('.', '.'), ('Task', 'NN'), (':', ':')), (('Task', 'NN'), (':', ':'), ('1', 'CD')), ((':', ':'), ('1', 'CD'), ('.', '.')), (('1', 'CD'), ('.', '.'), ('HTML', 'NNP')), (('.', '.'), ('HTML', 'NNP'), ('&', 'CC')), (('HTML', 'NNP'), ('&', 'CC'), ('CSS', 'NNP')), (('&', 'CC'), ('CSS', 'NNP'), ('(', '(')), (('CSS', 'NNP'), ('(', '('), ('15', 'CD')), (('(', '('), ('15', 'CD'), ('minutes', 'NNS')), (('15', 'CD'), ('minutes', 'NNS'), (')', ')')), (('minutes', 'NNS'), (')', ')'), ('-', ':')), ((')', ')'), ('-', ':'), ('Create', 'VB')), (('-', ':'), ('Create', 'VB'), ('the', 'DT')), (('Create', 'VB'), ('the', 'DT'), ('HTML', 'NNP')), (('the', 'DT'), ('HTML', 'NNP'), ('for', 'IN')), (('HTML', 'NNP'), ('for', 'IN'), ('a', 'DT')), (('for', 'IN'), ('a', 'DT'), ('single', 'JJ')), (('a', 'DT'), ('single', 'JJ'), ('product', 'NN')), (('single', 'JJ'), ('product', 'NN'), ('card', 'NN')), (('product', 'NN'), ('card', 'NN'), ('.', '.')), (('card', 'NN'), ('.', '.'), ('It', 'PRP')), (('.', '.'), ('It', 'PRP'), ('should', 'MD')), (('It', 'PRP'), ('should', 'MD'), ('include', 'VB')), (('should', 'MD'), ('include', 'VB'), ('a', 'DT')), (('include', 'VB'), ('a', 'DT'), ('product', 'NN')), (('a', 'DT'), ('product', 'NN'), ('image', 'NN')), (('product', 'NN'), ('image', 'NN'), (',', ',')), (('image', 'NN'), (',', ','), ('title', 'NN')), ((',', ','), ('title', 'NN'), (',', ',')), (('title', 'NN'), (',', ','), ('price', 'NN')), ((',', ','), ('price', 'NN'), (',', ',')), (('price', 'NN'), (',', ','), ('and', 'CC')), ((',', ','), ('and', 'CC'), ('an', 'DT')), (('and', 'CC'), ('an', 'DT'), ('``', '``')), (('an', 'DT'), ('``', '``'), ('Add', 'NNP')), (('``', '``'), ('Add', 'NNP'), ('to', 'TO')), (('Add', 'NNP'), ('to', 'TO'), ('Cart', 'NNP')), (('to', 'TO'), ('Cart', 'NNP'), (\"''\", \"''\")), (('Cart', 'NNP'), (\"''\", \"''\"), ('button', 'NN')), ((\"''\", \"''\"), ('button', 'NN'), ('.', '.')), (('button', 'NN'), ('.', '.'), ('-', ':')), (('.', '.'), ('-', ':'), ('Style', 'VBZ')), (('-', ':'), ('Style', 'VBZ'), ('the', 'DT')), (('Style', 'VBZ'), ('the', 'DT'), ('product', 'NN')), (('the', 'DT'), ('product', 'NN'), ('card', 'NN')), (('product', 'NN'), ('card', 'NN'), ('with', 'IN')), (('card', 'NN'), ('with', 'IN'), ('CSS', 'NNP')), (('with', 'IN'), ('CSS', 'NNP'), ('to', 'TO')), (('CSS', 'NNP'), ('to', 'TO'), ('be', 'VB')), (('to', 'TO'), ('be', 'VB'), ('visually', 'RB')), (('be', 'VB'), ('visually', 'RB'), ('appealing', 'VBG')), (('visually', 'RB'), ('appealing', 'VBG'), ('and', 'CC')), (('appealing', 'VBG'), ('and', 'CC'), ('presentable', 'JJ')), (('and', 'CC'), ('presentable', 'JJ'), ('.', '.')), (('presentable', 'JJ'), ('.', '.'), ('2', 'CD')), (('.', '.'), ('2', 'CD'), ('.', '.')), (('2', 'CD'), ('.', '.'), ('JavaScript', 'NNP')), (('.', '.'), ('JavaScript', 'NNP'), ('(', '(')), (('JavaScript', 'NNP'), ('(', '('), ('15', 'CD')), (('(', '('), ('15', 'CD'), ('minutes', 'NNS')), (('15', 'CD'), ('minutes', 'NNS'), (')', ')')), (('minutes', 'NNS'), (')', ')'), ('-', ':')), ((')', ')'), ('-', ':'), ('Write', 'VB')), (('-', ':'), ('Write', 'VB'), ('a', 'DT')), (('Write', 'VB'), ('a', 'DT'), ('JavaScript', 'NNP')), (('a', 'DT'), ('JavaScript', 'NNP'), ('function', 'NN')), (('JavaScript', 'NNP'), ('function', 'NN'), ('that', 'WDT')), (('function', 'NN'), ('that', 'WDT'), ('updates', 'VBZ')), (('that', 'WDT'), ('updates', 'VBZ'), ('the', 'DT')), (('updates', 'VBZ'), ('the', 'DT'), ('number', 'NN')), (('the', 'DT'), ('number', 'NN'), ('of', 'IN')), (('number', 'NN'), ('of', 'IN'), ('items', 'NNS')), (('of', 'IN'), ('items', 'NNS'), ('in', 'IN')), (('items', 'NNS'), ('in', 'IN'), ('the', 'DT')), (('in', 'IN'), ('the', 'DT'), ('cart', 'NN')), (('the', 'DT'), ('cart', 'NN'), ('.', '.')), (('cart', 'NN'), ('.', '.'), ('This', 'DT')), (('.', '.'), ('This', 'DT'), ('function', 'NN')), (('This', 'DT'), ('function', 'NN'), ('should', 'MD')), (('function', 'NN'), ('should', 'MD'), ('execute', 'VB')), (('should', 'MD'), ('execute', 'VB'), ('when', 'WRB')), (('execute', 'VB'), ('when', 'WRB'), ('the', 'DT')), (('when', 'WRB'), ('the', 'DT'), ('``', '``')), (('the', 'DT'), ('``', '``'), ('Add', 'NNP')), (('``', '``'), ('Add', 'NNP'), ('to', 'TO')), (('Add', 'NNP'), ('to', 'TO'), ('Cart', 'NNP')), (('to', 'TO'), ('Cart', 'NNP'), (\"''\", \"''\")), (('Cart', 'NNP'), (\"''\", \"''\"), ('button', 'NN')), ((\"''\", \"''\"), ('button', 'NN'), ('is', 'VBZ')), (('button', 'NN'), ('is', 'VBZ'), ('clicked', 'VBN')), (('is', 'VBZ'), ('clicked', 'VBN'), ('.', '.')), (('clicked', 'VBN'), ('.', '.'), ('-', ':')), (('.', '.'), ('-', ':'), ('Display', 'NN')), (('-', ':'), ('Display', 'NN'), ('a', 'DT')), (('Display', 'NN'), ('a', 'DT'), ('simple', 'JJ')), (('a', 'DT'), ('simple', 'JJ'), ('alert', 'NN')), (('simple', 'JJ'), ('alert', 'NN'), ('to', 'TO')), (('alert', 'NN'), ('to', 'TO'), ('confirm', 'VB')), (('to', 'TO'), ('confirm', 'VB'), ('that', 'IN')), (('confirm', 'VB'), ('that', 'IN'), ('the', 'DT')), (('that', 'IN'), ('the', 'DT'), ('item', 'NN')), (('the', 'DT'), ('item', 'NN'), ('has', 'VBZ')), (('item', 'NN'), ('has', 'VBZ'), ('been', 'VBN')), (('has', 'VBZ'), ('been', 'VBN'), ('added', 'VBN')), (('been', 'VBN'), ('added', 'VBN'), ('to', 'TO')), (('added', 'VBN'), ('to', 'TO'), ('the', 'DT')), (('to', 'TO'), ('the', 'DT'), ('cart', 'NN')), (('the', 'DT'), ('cart', 'NN'), ('.', '.')), (('cart', 'NN'), ('.', '.'), ('Requirements', 'NNS')), (('.', '.'), ('Requirements', 'NNS'), (':', ':')), (('Requirements', 'NNS'), (':', ':'), ('-', ':')), ((':', ':'), ('-', ':'), ('The', 'DT')), (('-', ':'), ('The', 'DT'), ('product', 'NN')), (('The', 'DT'), ('product', 'NN'), ('card', 'NN')), (('product', 'NN'), ('card', 'NN'), ('should', 'MD')), (('card', 'NN'), ('should', 'MD'), ('be', 'VB')), (('should', 'MD'), ('be', 'VB'), ('responsive', 'JJ')), (('be', 'VB'), ('responsive', 'JJ'), ('and', 'CC')), (('responsive', 'JJ'), ('and', 'CC'), ('presentable', 'JJ')), (('and', 'CC'), ('presentable', 'JJ'), ('on', 'IN')), (('presentable', 'JJ'), ('on', 'IN'), ('both', 'DT')), (('on', 'IN'), ('both', 'DT'), ('desktop', 'NN')), (('both', 'DT'), ('desktop', 'NN'), ('and', 'CC')), (('desktop', 'NN'), ('and', 'CC'), ('mobile', 'JJ')), (('and', 'CC'), ('mobile', 'JJ'), ('views', 'NNS')), (('mobile', 'JJ'), ('views', 'NNS'), ('.', '.')), (('views', 'NNS'), ('.', '.'), ('-', ':')), (('.', '.'), ('-', ':'), ('Use', 'NN')), (('-', ':'), ('Use', 'NN'), ('vanilla', 'NN')), (('Use', 'NN'), ('vanilla', 'NN'), ('JavaScript', 'NNP')), (('vanilla', 'NN'), ('JavaScript', 'NNP'), (';', ':')), (('JavaScript', 'NNP'), (';', ':'), ('no', 'DT')), ((';', ':'), ('no', 'DT'), ('libraries', 'NNS')), (('no', 'DT'), ('libraries', 'NNS'), ('or', 'CC')), (('libraries', 'NNS'), ('or', 'CC'), ('frameworks', 'NNS')), (('or', 'CC'), ('frameworks', 'NNS'), ('.', '.')), (('frameworks', 'NNS'), ('.', '.'), ('-', ':')), (('.', '.'), ('-', ':'), ('Bonus', 'NN')), (('-', ':'), ('Bonus', 'NN'), (':', ':')), (('Bonus', 'NN'), (':', ':'), ('Implement', 'NN')), ((':', ':'), ('Implement', 'NN'), ('a', 'DT')), (('Implement', 'NN'), ('a', 'DT'), ('simple', 'JJ')), (('a', 'DT'), ('simple', 'JJ'), ('toggle', 'NN')), (('simple', 'JJ'), ('toggle', 'NN'), ('to', 'TO')), (('toggle', 'NN'), ('to', 'TO'), ('switch', 'VB')), (('to', 'TO'), ('switch', 'VB'), ('between', 'IN')), (('switch', 'VB'), ('between', 'IN'), ('``', '``')), (('between', 'IN'), ('``', '``'), ('grid', 'JJ')), (('``', '``'), ('grid', 'JJ'), (\"''\", \"''\")), (('grid', 'JJ'), (\"''\", \"''\"), ('and', 'CC')), ((\"''\", \"''\"), ('and', 'CC'), ('``', '``')), (('and', 'CC'), ('``', '``'), ('list', 'NN')), (('``', '``'), ('list', 'NN'), (\"''\", \"''\")), (('list', 'NN'), (\"''\", \"''\"), ('views', 'NNS')), ((\"''\", \"''\"), ('views', 'NNS'), ('of', 'IN')), (('views', 'NNS'), ('of', 'IN'), ('the', 'DT')), (('of', 'IN'), ('the', 'DT'), ('product', 'NN')), (('the', 'DT'), ('product', 'NN'), ('card', 'NN')), (('product', 'NN'), ('card', 'NN'), ('.', '.')), (('card', 'NN'), ('.', '.'), ('Deliverables', 'NNS')), (('.', '.'), ('Deliverables', 'NNS'), (':', ':')), (('Deliverables', 'NNS'), (':', ':'), ('-', ':')), ((':', ':'), ('-', ':'), ('A', 'DT')), (('-', ':'), ('A', 'DT'), ('single', 'JJ')), (('A', 'DT'), ('single', 'JJ'), ('HTML', 'NNP')), (('single', 'JJ'), ('HTML', 'NNP'), ('file', 'NN')), (('HTML', 'NNP'), ('file', 'NN'), ('with', 'IN')), (('file', 'NN'), ('with', 'IN'), ('inline', 'JJ')), (('with', 'IN'), ('inline', 'JJ'), ('CSS', 'NNP')), (('inline', 'JJ'), ('CSS', 'NNP'), ('and', 'CC')), (('CSS', 'NNP'), ('and', 'CC'), ('a', 'DT')), (('and', 'CC'), ('a', 'DT'), ('`', '``')), (('a', 'DT'), ('`', '``'), ('<', 'JJ')), (('`', '``'), ('<', 'JJ'), ('script', 'NN')), (('<', 'JJ'), ('script', 'NN'), ('>', 'NNP')), (('script', 'NN'), ('>', 'NNP'), ('`', '``')), (('>', 'NNP'), ('`', '``'), ('tag', 'NN')), (('`', '``'), ('tag', 'NN'), ('containing', 'NN')), (('tag', 'NN'), ('containing', 'NN'), ('JavaScript', 'NNP')), (('containing', 'NN'), ('JavaScript', 'NNP'), ('.', '.')), (('JavaScript', 'NNP'), ('.', '.'), ('-', ':')), (('.', '.'), ('-', ':'), ('No', 'DT')), (('-', ':'), ('No', 'DT'), ('external', 'JJ')), (('No', 'DT'), ('external', 'JJ'), ('stylesheets', 'NNS')), (('external', 'JJ'), ('stylesheets', 'NNS'), ('or', 'CC')), (('stylesheets', 'NNS'), ('or', 'CC'), ('scripts', 'NNS')), (('or', 'CC'), ('scripts', 'NNS'), ('.', '.')), (('scripts', 'NNS'), ('.', '.'), ('Evaluation', 'NN')), (('.', '.'), ('Evaluation', 'NN'), ('Criteria', 'NNS')), (('Evaluation', 'NN'), ('Criteria', 'NNS'), (':', ':')), (('Criteria', 'NNS'), (':', ':'), ('-', ':')), ((':', ':'), ('-', ':'), ('Semantic', 'JJ')), (('-', ':'), ('Semantic', 'JJ'), ('use', 'NN')), (('Semantic', 'JJ'), ('use', 'NN'), ('of', 'IN')), (('use', 'NN'), ('of', 'IN'), ('HTML', 'NNP')), (('of', 'IN'), ('HTML', 'NNP'), ('tags', 'NNS')), (('HTML', 'NNP'), ('tags', 'NNS'), ('.', '.')), (('tags', 'NNS'), ('.', '.'), ('-', ':')), (('.', '.'), ('-', ':'), ('Clean', 'JJ')), (('-', ':'), ('Clean', 'JJ'), ('and', 'CC')), (('Clean', 'JJ'), ('and', 'CC'), ('organized', 'VBN')), (('and', 'CC'), ('organized', 'VBN'), ('CSS', 'NNP')), (('organized', 'VBN'), ('CSS', 'NNP'), ('with', 'IN')), (('CSS', 'NNP'), ('with', 'IN'), ('attention', 'NN')), (('with', 'IN'), ('attention', 'NN'), ('to', 'TO')), (('attention', 'NN'), ('to', 'TO'), ('design', 'VB')), (('to', 'TO'), ('design', 'VB'), ('principles', 'NNS')), (('design', 'VB'), ('principles', 'NNS'), ('.', '.')), (('principles', 'NNS'), ('.', '.'), ('-', ':')), (('.', '.'), ('-', ':'), ('Functional', 'JJ')), (('-', ':'), ('Functional', 'JJ'), ('JavaScript', 'NNP')), (('Functional', 'JJ'), ('JavaScript', 'NNP'), ('that', 'WDT')), (('JavaScript', 'NNP'), ('that', 'WDT'), ('accurately', 'RB')), (('that', 'WDT'), ('accurately', 'RB'), ('reflects', 'VBZ')), (('accurately', 'RB'), ('reflects', 'VBZ'), ('the', 'DT')), (('reflects', 'VBZ'), ('the', 'DT'), ('item', 'NN')), (('the', 'DT'), ('item', 'NN'), ('count', 'NN')), (('item', 'NN'), ('count', 'NN'), ('in', 'IN')), (('count', 'NN'), ('in', 'IN'), ('the', 'DT')), (('in', 'IN'), ('the', 'DT'), ('cart', 'NN')), (('the', 'DT'), ('cart', 'NN'), ('.', '.')), (('cart', 'NN'), ('.', '.'), ('-', ':')), (('.', '.'), ('-', ':'), ('Efficient', 'NN')), (('-', ':'), ('Efficient', 'NN'), ('and', 'CC')), (('Efficient', 'NN'), ('and', 'CC'), ('clean', 'JJ')), (('and', 'CC'), ('clean', 'JJ'), ('code', 'NN')), (('clean', 'JJ'), ('code', 'NN'), (',', ',')), (('code', 'NN'), (',', ','), ('following', 'VBG')), ((',', ','), ('following', 'VBG'), ('best', 'JJS')), (('following', 'VBG'), ('best', 'JJS'), ('practices', 'NNS')), (('best', 'JJS'), ('practices', 'NNS'), ('.', '.')), (('practices', 'NNS'), ('.', '.'), ('Note', 'NN')), (('.', '.'), ('Note', 'NN'), (':', ':')), (('Note', 'NN'), (':', ':'), ('-', ':')), ((':', ':'), ('-', ':'), ('Candidates', 'NNS')), (('-', ':'), ('Candidates', 'NNS'), ('are', 'VBP')), (('Candidates', 'NNS'), ('are', 'VBP'), ('allowed', 'VBN')), (('are', 'VBP'), ('allowed', 'VBN'), ('to', 'TO')), (('allowed', 'VBN'), ('to', 'TO'), ('use', 'VB')), (('to', 'TO'), ('use', 'VB'), ('pseudocode', 'NN')), (('use', 'VB'), ('pseudocode', 'NN'), ('for', 'IN')), (('pseudocode', 'NN'), ('for', 'IN'), ('complex', 'JJ')), (('for', 'IN'), ('complex', 'JJ'), ('logic', 'NN')), (('complex', 'JJ'), ('logic', 'NN'), ('due', 'JJ')), (('logic', 'NN'), ('due', 'JJ'), ('to', 'TO')), (('due', 'JJ'), ('to', 'TO'), ('time', 'NN')), (('to', 'TO'), ('time', 'NN'), ('constraints', 'NNS')), (('time', 'NN'), ('constraints', 'NNS'), ('.', '.')), (('constraints', 'NNS'), ('.', '.'), ('-', ':')), (('.', '.'), ('-', ':'), ('Candidates', 'NNS')), (('-', ':'), ('Candidates', 'NNS'), ('should', 'MD')), (('Candidates', 'NNS'), ('should', 'MD'), ('explain', 'VB')), (('should', 'MD'), ('explain', 'VB'), ('their', 'PRP$')), (('explain', 'VB'), ('their', 'PRP$'), ('code', 'NN')), (('their', 'PRP$'), ('code', 'NN'), ('and', 'CC')), (('code', 'NN'), ('and', 'CC'), ('the', 'DT')), (('and', 'CC'), ('the', 'DT'), ('choices', 'NNS')), (('the', 'DT'), ('choices', 'NNS'), ('they', 'PRP')), (('choices', 'NNS'), ('they', 'PRP'), ('made', 'VBD')), (('they', 'PRP'), ('made', 'VBD'), ('as', 'IN')), (('made', 'VBD'), ('as', 'IN'), ('they', 'PRP')), (('as', 'IN'), ('they', 'PRP'), ('go', 'VBP')), (('they', 'PRP'), ('go', 'VBP'), ('along', 'RB')), (('go', 'VBP'), ('along', 'RB'), ('.', '.'))]\n"
          ]
        }
      ]
    },
    {
      "cell_type": "markdown",
      "source": [
        "10. Implement RegExp Tagger"
      ],
      "metadata": {
        "id": "XC5Z4ZsqXJ4a"
      }
    },
    {
      "cell_type": "code",
      "source": [
        "import re\n",
        "\n",
        "num = r'[0-9]+'\n",
        "word = r'[a-z A-Z 0-9]+'\n",
        "special = r'[^a-z A-Z 0-9]+'\n",
        "\n",
        "inp = \"3k4%DaorYdjxUUWdypNbf0zJQQR+Wnfxy&2G5n9TOQEMobO0q*%GuWjBHo0%2e=wB%2pUWBSzwj!YnTR2$Ur428$+7kJQWAVTQsJ\"\n",
        "numbers = [re.findall(num,inp)]\n",
        "words = [re.findall(word,inp)]\n",
        "specials = [re.findall(special,inp)]\n",
        "\n",
        "print(numbers)\n",
        "print(words)\n",
        "print(specials)"
      ],
      "metadata": {
        "colab": {
          "base_uri": "https://localhost:8080/"
        },
        "id": "b0O-JzCCXHsi",
        "outputId": "914c8488-c07e-4474-f6cc-4c81ec03f2d7"
      },
      "execution_count": null,
      "outputs": [
        {
          "output_type": "stream",
          "name": "stdout",
          "text": [
            "[['3', '4', '0', '2', '5', '9', '0', '0', '2', '2', '2', '428', '7']]\n",
            "[['3k4', 'DaorYdjxUUWdypNbf0zJQQR', 'Wnfxy', '2G5n9TOQEMobO0q', 'GuWjBHo0', '2e', 'wB', '2pUWBSzwj', 'YnTR2', 'Ur428', '7kJQWAVTQsJ']]\n",
            "[['%', '+', '&', '*%', '%', '=', '%', '!', '$', '$+']]\n"
          ]
        }
      ]
    }
  ]
}