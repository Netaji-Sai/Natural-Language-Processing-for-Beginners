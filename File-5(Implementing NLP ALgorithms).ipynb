{
  "nbformat": 4,
  "nbformat_minor": 0,
  "metadata": {
    "colab": {
      "provenance": []
    },
    "kernelspec": {
      "name": "python3",
      "display_name": "Python 3"
    },
    "language_info": {
      "name": "python"
    }
  },
  "cells": [
    {
      "cell_type": "markdown",
      "source": [
        "## **21BCE9182**\n",
        "## **Suru Netaji Sai**\n",
        "# **POS Tgging**\n"
      ],
      "metadata": {
        "id": "9feMDZ3HJ3P-"
      }
    },
    {
      "cell_type": "code",
      "execution_count": null,
      "metadata": {
        "colab": {
          "base_uri": "https://localhost:8080/"
        },
        "id": "KkbTwjxFJqUc",
        "outputId": "b02098c5-a0cb-4fb6-b9a4-96f8a86f80f7"
      },
      "outputs": [
        {
          "output_type": "stream",
          "name": "stdout",
          "text": [
            "Original Text: The sun dipped below the horizon, casting a warm glow over the tranquil lake. Birds chirped their evening songs as the gentle breeze rustled through the leaves of the surrounding trees. In the distance, the silhouette of a lone fisherman could be seen, patiently waiting for a nibble on his line. As twilight descended, the sky painted itself in hues of orange and pink, creating a breathtaking canvas above. It was a moment of serenity, a pause in the rush of life, where nature's beauty enveloped everything in its embrace.\n",
            "Tokenized Text: ['The', 'sun', 'dipped', 'below', 'the', 'horizon', ',', 'casting', 'a', 'warm', 'glow', 'over', 'the', 'tranquil', 'lake', '.', 'Birds', 'chirped', 'their', 'evening', 'songs', 'as', 'the', 'gentle', 'breeze', 'rustled', 'through', 'the', 'leaves', 'of', 'the', 'surrounding', 'trees', '.', 'In', 'the', 'distance', ',', 'the', 'silhouette', 'of', 'a', 'lone', 'fisherman', 'could', 'be', 'seen', ',', 'patiently', 'waiting', 'for', 'a', 'nibble', 'on', 'his', 'line', '.', 'As', 'twilight', 'descended', ',', 'the', 'sky', 'painted', 'itself', 'in', 'hues', 'of', 'orange', 'and', 'pink', ',', 'creating', 'a', 'breathtaking', 'canvas', 'above', '.', 'It', 'was', 'a', 'moment', 'of', 'serenity', ',', 'a', 'pause', 'in', 'the', 'rush', 'of', 'life', ',', 'where', 'nature', \"'s\", 'beauty', 'enveloped', 'everything', 'in', 'its', 'embrace', '.']\n",
            "Porter Stemmed Text: ['the', 'sun', 'dip', 'below', 'the', 'horizon', ',', 'cast', 'a', 'warm', 'glow', 'over', 'the', 'tranquil', 'lake', '.', 'bird', 'chirp', 'their', 'even', 'song', 'as', 'the', 'gentl', 'breez', 'rustl', 'through', 'the', 'leav', 'of', 'the', 'surround', 'tree', '.', 'in', 'the', 'distanc', ',', 'the', 'silhouett', 'of', 'a', 'lone', 'fisherman', 'could', 'be', 'seen', ',', 'patient', 'wait', 'for', 'a', 'nibbl', 'on', 'hi', 'line', '.', 'as', 'twilight', 'descend', ',', 'the', 'sky', 'paint', 'itself', 'in', 'hue', 'of', 'orang', 'and', 'pink', ',', 'creat', 'a', 'breathtak', 'canva', 'abov', '.', 'it', 'wa', 'a', 'moment', 'of', 'seren', ',', 'a', 'paus', 'in', 'the', 'rush', 'of', 'life', ',', 'where', 'natur', \"'s\", 'beauti', 'envelop', 'everyth', 'in', 'it', 'embrac', '.']\n"
          ]
        },
        {
          "output_type": "stream",
          "name": "stderr",
          "text": [
            "[nltk_data] Downloading package punkt to /root/nltk_data...\n",
            "[nltk_data]   Package punkt is already up-to-date!\n"
          ]
        }
      ],
      "source": [
        "# 1) Write a program to read the words from a string variable text and perform tokenization and porter stemming by reading the input string.\n",
        "import nltk\n",
        "from nltk.tokenize import word_tokenize\n",
        "from nltk.stem import PorterStemmer\n",
        "\n",
        "nltk.download('punkt')\n",
        "\n",
        "text = \"The sun dipped below the horizon, casting a warm glow over the tranquil lake. Birds chirped their evening songs as the gentle breeze rustled through the leaves of the surrounding trees. In the distance, the silhouette of a lone fisherman could be seen, patiently waiting for a nibble on his line. As twilight descended, the sky painted itself in hues of orange and pink, creating a breathtaking canvas above. It was a moment of serenity, a pause in the rush of life, where nature's beauty enveloped everything in its embrace.\"\n",
        "tokens = word_tokenize(text)\n",
        "porter = PorterStemmer()\n",
        "stemmed_words = [porter.stem(word) for word in tokens]\n",
        "\n",
        "print(\"Original Text:\", text)\n",
        "print(\"Tokenized Text:\", tokens)\n",
        "print(\"Porter Stemmed Text:\", stemmed_words)\n"
      ]
    },
    {
      "cell_type": "code",
      "source": [
        "import nltk\n",
        "from nltk.tokenize import word_tokenize\n",
        "from nltk.stem import PorterStemmer\n",
        "\n",
        "nltk.download('punkt')\n",
        "\n",
        "text = input()\n",
        "words = word_tokenize(text)\n",
        "stemmer = PorterStemmer()\n",
        "stemmed_words = [stemmer.stem(token) for token in words]\n",
        "\n",
        "for i in range(0,len(words)):\n",
        "  print(f'{words[i]} : {stemmed_words[i]}')"
      ],
      "metadata": {
        "colab": {
          "base_uri": "https://localhost:8080/"
        },
        "id": "uZvUO5O49X22",
        "outputId": "da54010f-7334-4473-a79a-29b336a2ff95"
      },
      "execution_count": null,
      "outputs": [
        {
          "output_type": "stream",
          "name": "stderr",
          "text": [
            "[nltk_data] Downloading package punkt to /root/nltk_data...\n",
            "[nltk_data]   Package punkt is already up-to-date!\n"
          ]
        },
        {
          "output_type": "stream",
          "name": "stdout",
          "text": [
            "# 1) Write a program to read the words from a string variable text and perform tokenization and porter stemming by reading the input string.\n",
            "# : #\n",
            "1 : 1\n",
            ") : )\n",
            "Write : write\n",
            "a : a\n",
            "program : program\n",
            "to : to\n",
            "read : read\n",
            "the : the\n",
            "words : word\n",
            "from : from\n",
            "a : a\n",
            "string : string\n",
            "variable : variabl\n",
            "text : text\n",
            "and : and\n",
            "perform : perform\n",
            "tokenization : token\n",
            "and : and\n",
            "porter : porter\n",
            "stemming : stem\n",
            "by : by\n",
            "reading : read\n",
            "the : the\n",
            "input : input\n",
            "string : string\n",
            ". : .\n"
          ]
        }
      ]
    },
    {
      "cell_type": "code",
      "source": [
        "# 2) Write a program to read the words from a string variable text and perform tokenization and lancaster stemming by reading the input string.\n",
        "from nltk.stem import LancasterStemmer\n",
        "\n",
        "lancaster = LancasterStemmer()\n",
        "stemmed_words = [lancaster.stem(word) for word in tokens]\n",
        "\n",
        "print(\"Original Text:\", text)\n",
        "print(\"Tokenized Text:\", tokens)\n",
        "print(\"Lancaster Stemmed Text:\", stemmed_words)"
      ],
      "metadata": {
        "colab": {
          "base_uri": "https://localhost:8080/"
        },
        "id": "rssr9DxuKLcC",
        "outputId": "c1d117a6-749d-4670-97ff-ac08081e15b2"
      },
      "execution_count": null,
      "outputs": [
        {
          "output_type": "stream",
          "name": "stdout",
          "text": [
            "Original Text: The sun dipped below the horizon, casting a warm glow over the tranquil lake. Birds chirped their evening songs as the gentle breeze rustled through the leaves of the surrounding trees. In the distance, the silhouette of a lone fisherman could be seen, patiently waiting for a nibble on his line. As twilight descended, the sky painted itself in hues of orange and pink, creating a breathtaking canvas above. It was a moment of serenity, a pause in the rush of life, where nature's beauty enveloped everything in its embrace.\n",
            "Tokenized Text: ['The', 'sun', 'dipped', 'below', 'the', 'horizon', ',', 'casting', 'a', 'warm', 'glow', 'over', 'the', 'tranquil', 'lake', '.', 'Birds', 'chirped', 'their', 'evening', 'songs', 'as', 'the', 'gentle', 'breeze', 'rustled', 'through', 'the', 'leaves', 'of', 'the', 'surrounding', 'trees', '.', 'In', 'the', 'distance', ',', 'the', 'silhouette', 'of', 'a', 'lone', 'fisherman', 'could', 'be', 'seen', ',', 'patiently', 'waiting', 'for', 'a', 'nibble', 'on', 'his', 'line', '.', 'As', 'twilight', 'descended', ',', 'the', 'sky', 'painted', 'itself', 'in', 'hues', 'of', 'orange', 'and', 'pink', ',', 'creating', 'a', 'breathtaking', 'canvas', 'above', '.', 'It', 'was', 'a', 'moment', 'of', 'serenity', ',', 'a', 'pause', 'in', 'the', 'rush', 'of', 'life', ',', 'where', 'nature', \"'s\", 'beauty', 'enveloped', 'everything', 'in', 'its', 'embrace', '.']\n",
            "Lancaster Stemmed Text: ['the', 'sun', 'dip', 'below', 'the', 'horizon', ',', 'cast', 'a', 'warm', 'glow', 'ov', 'the', 'tranquil', 'lak', '.', 'bird', 'chirp', 'their', 'ev', 'song', 'as', 'the', 'gentl', 'breez', 'rustl', 'through', 'the', 'leav', 'of', 'the', 'surround', 'tre', '.', 'in', 'the', 'dist', ',', 'the', 'silhouet', 'of', 'a', 'lon', 'fisherm', 'could', 'be', 'seen', ',', 'paty', 'wait', 'for', 'a', 'nibbl', 'on', 'his', 'lin', '.', 'as', 'twilight', 'descend', ',', 'the', 'sky', 'paint', 'itself', 'in', 'hue', 'of', 'orang', 'and', 'pink', ',', 'cre', 'a', 'breathtak', 'canva', 'abov', '.', 'it', 'was', 'a', 'mom', 'of', 'ser', ',', 'a', 'paus', 'in', 'the', 'rush', 'of', 'lif', ',', 'wher', 'nat', \"'s\", 'beauty', 'envelop', 'everyth', 'in', 'it', 'embrac', '.']\n"
          ]
        }
      ]
    },
    {
      "cell_type": "code",
      "source": [
        "# 3) Implement a program for Ngram tagger.\n",
        "!python -m nltk.downloader averaged_perceptron_tagger\n",
        "from nltk.util import ngrams\n",
        "\n",
        "tagged_tokens = nltk.pos_tag(tokens)\n",
        "n = 3\n",
        "n_grams = list(ngrams(tagged_tokens, n))\n",
        "\n",
        "print(\"Original Text:\", text)\n",
        "print(\"Tokenized Text:\", tokens)\n",
        "print(\"Tagged Tokens:\", tagged_tokens)\n",
        "print(f\"{n}-grams:\", n_grams)"
      ],
      "metadata": {
        "colab": {
          "base_uri": "https://localhost:8080/"
        },
        "id": "jr5xOOjoKSkr",
        "outputId": "dff11b3a-ab12-4d6a-8b7b-57aef9352585"
      },
      "execution_count": null,
      "outputs": [
        {
          "output_type": "stream",
          "name": "stdout",
          "text": [
            "/usr/lib/python3.10/runpy.py:126: RuntimeWarning: 'nltk.downloader' found in sys.modules after import of package 'nltk', but prior to execution of 'nltk.downloader'; this may result in unpredictable behaviour\n",
            "  warn(RuntimeWarning(msg))\n",
            "[nltk_data] Downloading package averaged_perceptron_tagger to\n",
            "[nltk_data]     /root/nltk_data...\n",
            "[nltk_data]   Unzipping taggers/averaged_perceptron_tagger.zip.\n",
            "Original Text: The sun dipped below the horizon, casting a warm glow over the tranquil lake. Birds chirped their evening songs as the gentle breeze rustled through the leaves of the surrounding trees. In the distance, the silhouette of a lone fisherman could be seen, patiently waiting for a nibble on his line. As twilight descended, the sky painted itself in hues of orange and pink, creating a breathtaking canvas above. It was a moment of serenity, a pause in the rush of life, where nature's beauty enveloped everything in its embrace.\n",
            "Tokenized Text: ['The', 'sun', 'dipped', 'below', 'the', 'horizon', ',', 'casting', 'a', 'warm', 'glow', 'over', 'the', 'tranquil', 'lake', '.', 'Birds', 'chirped', 'their', 'evening', 'songs', 'as', 'the', 'gentle', 'breeze', 'rustled', 'through', 'the', 'leaves', 'of', 'the', 'surrounding', 'trees', '.', 'In', 'the', 'distance', ',', 'the', 'silhouette', 'of', 'a', 'lone', 'fisherman', 'could', 'be', 'seen', ',', 'patiently', 'waiting', 'for', 'a', 'nibble', 'on', 'his', 'line', '.', 'As', 'twilight', 'descended', ',', 'the', 'sky', 'painted', 'itself', 'in', 'hues', 'of', 'orange', 'and', 'pink', ',', 'creating', 'a', 'breathtaking', 'canvas', 'above', '.', 'It', 'was', 'a', 'moment', 'of', 'serenity', ',', 'a', 'pause', 'in', 'the', 'rush', 'of', 'life', ',', 'where', 'nature', \"'s\", 'beauty', 'enveloped', 'everything', 'in', 'its', 'embrace', '.']\n",
            "Tagged Tokens: [('The', 'DT'), ('sun', 'NN'), ('dipped', 'VBD'), ('below', 'IN'), ('the', 'DT'), ('horizon', 'NN'), (',', ','), ('casting', 'VBG'), ('a', 'DT'), ('warm', 'JJ'), ('glow', 'NN'), ('over', 'IN'), ('the', 'DT'), ('tranquil', 'JJ'), ('lake', 'NN'), ('.', '.'), ('Birds', 'NNS'), ('chirped', 'VBD'), ('their', 'PRP$'), ('evening', 'JJ'), ('songs', 'NNS'), ('as', 'IN'), ('the', 'DT'), ('gentle', 'NN'), ('breeze', 'NN'), ('rustled', 'VBD'), ('through', 'IN'), ('the', 'DT'), ('leaves', 'NNS'), ('of', 'IN'), ('the', 'DT'), ('surrounding', 'VBG'), ('trees', 'NNS'), ('.', '.'), ('In', 'IN'), ('the', 'DT'), ('distance', 'NN'), (',', ','), ('the', 'DT'), ('silhouette', 'NN'), ('of', 'IN'), ('a', 'DT'), ('lone', 'NN'), ('fisherman', 'NN'), ('could', 'MD'), ('be', 'VB'), ('seen', 'VBN'), (',', ','), ('patiently', 'RB'), ('waiting', 'VBG'), ('for', 'IN'), ('a', 'DT'), ('nibble', 'JJ'), ('on', 'IN'), ('his', 'PRP$'), ('line', 'NN'), ('.', '.'), ('As', 'IN'), ('twilight', 'NN'), ('descended', 'VBD'), (',', ','), ('the', 'DT'), ('sky', 'NN'), ('painted', 'VBD'), ('itself', 'PRP'), ('in', 'IN'), ('hues', 'NNS'), ('of', 'IN'), ('orange', 'NN'), ('and', 'CC'), ('pink', 'NN'), (',', ','), ('creating', 'VBG'), ('a', 'DT'), ('breathtaking', 'NN'), ('canvas', 'NN'), ('above', 'IN'), ('.', '.'), ('It', 'PRP'), ('was', 'VBD'), ('a', 'DT'), ('moment', 'NN'), ('of', 'IN'), ('serenity', 'NN'), (',', ','), ('a', 'DT'), ('pause', 'NN'), ('in', 'IN'), ('the', 'DT'), ('rush', 'NN'), ('of', 'IN'), ('life', 'NN'), (',', ','), ('where', 'WRB'), ('nature', 'NN'), (\"'s\", 'POS'), ('beauty', 'NN'), ('enveloped', 'VBD'), ('everything', 'NN'), ('in', 'IN'), ('its', 'PRP$'), ('embrace', 'NN'), ('.', '.')]\n",
            "3-grams: [(('The', 'DT'), ('sun', 'NN'), ('dipped', 'VBD')), (('sun', 'NN'), ('dipped', 'VBD'), ('below', 'IN')), (('dipped', 'VBD'), ('below', 'IN'), ('the', 'DT')), (('below', 'IN'), ('the', 'DT'), ('horizon', 'NN')), (('the', 'DT'), ('horizon', 'NN'), (',', ',')), (('horizon', 'NN'), (',', ','), ('casting', 'VBG')), ((',', ','), ('casting', 'VBG'), ('a', 'DT')), (('casting', 'VBG'), ('a', 'DT'), ('warm', 'JJ')), (('a', 'DT'), ('warm', 'JJ'), ('glow', 'NN')), (('warm', 'JJ'), ('glow', 'NN'), ('over', 'IN')), (('glow', 'NN'), ('over', 'IN'), ('the', 'DT')), (('over', 'IN'), ('the', 'DT'), ('tranquil', 'JJ')), (('the', 'DT'), ('tranquil', 'JJ'), ('lake', 'NN')), (('tranquil', 'JJ'), ('lake', 'NN'), ('.', '.')), (('lake', 'NN'), ('.', '.'), ('Birds', 'NNS')), (('.', '.'), ('Birds', 'NNS'), ('chirped', 'VBD')), (('Birds', 'NNS'), ('chirped', 'VBD'), ('their', 'PRP$')), (('chirped', 'VBD'), ('their', 'PRP$'), ('evening', 'JJ')), (('their', 'PRP$'), ('evening', 'JJ'), ('songs', 'NNS')), (('evening', 'JJ'), ('songs', 'NNS'), ('as', 'IN')), (('songs', 'NNS'), ('as', 'IN'), ('the', 'DT')), (('as', 'IN'), ('the', 'DT'), ('gentle', 'NN')), (('the', 'DT'), ('gentle', 'NN'), ('breeze', 'NN')), (('gentle', 'NN'), ('breeze', 'NN'), ('rustled', 'VBD')), (('breeze', 'NN'), ('rustled', 'VBD'), ('through', 'IN')), (('rustled', 'VBD'), ('through', 'IN'), ('the', 'DT')), (('through', 'IN'), ('the', 'DT'), ('leaves', 'NNS')), (('the', 'DT'), ('leaves', 'NNS'), ('of', 'IN')), (('leaves', 'NNS'), ('of', 'IN'), ('the', 'DT')), (('of', 'IN'), ('the', 'DT'), ('surrounding', 'VBG')), (('the', 'DT'), ('surrounding', 'VBG'), ('trees', 'NNS')), (('surrounding', 'VBG'), ('trees', 'NNS'), ('.', '.')), (('trees', 'NNS'), ('.', '.'), ('In', 'IN')), (('.', '.'), ('In', 'IN'), ('the', 'DT')), (('In', 'IN'), ('the', 'DT'), ('distance', 'NN')), (('the', 'DT'), ('distance', 'NN'), (',', ',')), (('distance', 'NN'), (',', ','), ('the', 'DT')), ((',', ','), ('the', 'DT'), ('silhouette', 'NN')), (('the', 'DT'), ('silhouette', 'NN'), ('of', 'IN')), (('silhouette', 'NN'), ('of', 'IN'), ('a', 'DT')), (('of', 'IN'), ('a', 'DT'), ('lone', 'NN')), (('a', 'DT'), ('lone', 'NN'), ('fisherman', 'NN')), (('lone', 'NN'), ('fisherman', 'NN'), ('could', 'MD')), (('fisherman', 'NN'), ('could', 'MD'), ('be', 'VB')), (('could', 'MD'), ('be', 'VB'), ('seen', 'VBN')), (('be', 'VB'), ('seen', 'VBN'), (',', ',')), (('seen', 'VBN'), (',', ','), ('patiently', 'RB')), ((',', ','), ('patiently', 'RB'), ('waiting', 'VBG')), (('patiently', 'RB'), ('waiting', 'VBG'), ('for', 'IN')), (('waiting', 'VBG'), ('for', 'IN'), ('a', 'DT')), (('for', 'IN'), ('a', 'DT'), ('nibble', 'JJ')), (('a', 'DT'), ('nibble', 'JJ'), ('on', 'IN')), (('nibble', 'JJ'), ('on', 'IN'), ('his', 'PRP$')), (('on', 'IN'), ('his', 'PRP$'), ('line', 'NN')), (('his', 'PRP$'), ('line', 'NN'), ('.', '.')), (('line', 'NN'), ('.', '.'), ('As', 'IN')), (('.', '.'), ('As', 'IN'), ('twilight', 'NN')), (('As', 'IN'), ('twilight', 'NN'), ('descended', 'VBD')), (('twilight', 'NN'), ('descended', 'VBD'), (',', ',')), (('descended', 'VBD'), (',', ','), ('the', 'DT')), ((',', ','), ('the', 'DT'), ('sky', 'NN')), (('the', 'DT'), ('sky', 'NN'), ('painted', 'VBD')), (('sky', 'NN'), ('painted', 'VBD'), ('itself', 'PRP')), (('painted', 'VBD'), ('itself', 'PRP'), ('in', 'IN')), (('itself', 'PRP'), ('in', 'IN'), ('hues', 'NNS')), (('in', 'IN'), ('hues', 'NNS'), ('of', 'IN')), (('hues', 'NNS'), ('of', 'IN'), ('orange', 'NN')), (('of', 'IN'), ('orange', 'NN'), ('and', 'CC')), (('orange', 'NN'), ('and', 'CC'), ('pink', 'NN')), (('and', 'CC'), ('pink', 'NN'), (',', ',')), (('pink', 'NN'), (',', ','), ('creating', 'VBG')), ((',', ','), ('creating', 'VBG'), ('a', 'DT')), (('creating', 'VBG'), ('a', 'DT'), ('breathtaking', 'NN')), (('a', 'DT'), ('breathtaking', 'NN'), ('canvas', 'NN')), (('breathtaking', 'NN'), ('canvas', 'NN'), ('above', 'IN')), (('canvas', 'NN'), ('above', 'IN'), ('.', '.')), (('above', 'IN'), ('.', '.'), ('It', 'PRP')), (('.', '.'), ('It', 'PRP'), ('was', 'VBD')), (('It', 'PRP'), ('was', 'VBD'), ('a', 'DT')), (('was', 'VBD'), ('a', 'DT'), ('moment', 'NN')), (('a', 'DT'), ('moment', 'NN'), ('of', 'IN')), (('moment', 'NN'), ('of', 'IN'), ('serenity', 'NN')), (('of', 'IN'), ('serenity', 'NN'), (',', ',')), (('serenity', 'NN'), (',', ','), ('a', 'DT')), ((',', ','), ('a', 'DT'), ('pause', 'NN')), (('a', 'DT'), ('pause', 'NN'), ('in', 'IN')), (('pause', 'NN'), ('in', 'IN'), ('the', 'DT')), (('in', 'IN'), ('the', 'DT'), ('rush', 'NN')), (('the', 'DT'), ('rush', 'NN'), ('of', 'IN')), (('rush', 'NN'), ('of', 'IN'), ('life', 'NN')), (('of', 'IN'), ('life', 'NN'), (',', ',')), (('life', 'NN'), (',', ','), ('where', 'WRB')), ((',', ','), ('where', 'WRB'), ('nature', 'NN')), (('where', 'WRB'), ('nature', 'NN'), (\"'s\", 'POS')), (('nature', 'NN'), (\"'s\", 'POS'), ('beauty', 'NN')), ((\"'s\", 'POS'), ('beauty', 'NN'), ('enveloped', 'VBD')), (('beauty', 'NN'), ('enveloped', 'VBD'), ('everything', 'NN')), (('enveloped', 'VBD'), ('everything', 'NN'), ('in', 'IN')), (('everything', 'NN'), ('in', 'IN'), ('its', 'PRP$')), (('in', 'IN'), ('its', 'PRP$'), ('embrace', 'NN')), (('its', 'PRP$'), ('embrace', 'NN'), ('.', '.'))]\n"
          ]
        }
      ]
    },
    {
      "cell_type": "code",
      "source": [
        "import nltk\n",
        "from nltk import word_tokenize\n",
        "from nltk.util import ngrams\n",
        "\n",
        "nltk.download(\"averaged_perceptron_tagger\")  #to get POS Tags for words\n",
        "\n",
        "input = \"The sun dipped below the horizon, casting a warm glow over the tranquil lake. Birds chirped their evening songs as the gentle breeze rustled through the leaves of the surrounding trees. In the distance, the silhouette of a lone fisherman could be seen, patiently waiting for a nibble on his line. As twilight descended, the sky painted itself in hues of orange and pink, creating a breathtaking canvas above. It was a moment of serenity, a pause in the rush of life, where nature's beauty enveloped everything in its embrace.\"\n",
        "tokens = word_tokenize(input)\n",
        "pos_tags = nltk.pos_tag(tokens)\n",
        "n_gram_tags = list(ngrams(pos_tags,2))\n",
        "\n",
        "print(tokens)\n",
        "print(pos_tags)\n",
        "print(n_gram_tags)"
      ],
      "metadata": {
        "colab": {
          "base_uri": "https://localhost:8080/"
        },
        "id": "imQrta7GHZsR",
        "outputId": "598a7eb7-acd9-4377-c488-4443a04f2ba7"
      },
      "execution_count": null,
      "outputs": [
        {
          "output_type": "stream",
          "name": "stdout",
          "text": [
            "['The', 'sun', 'dipped', 'below', 'the', 'horizon', ',', 'casting', 'a', 'warm', 'glow', 'over', 'the', 'tranquil', 'lake', '.', 'Birds', 'chirped', 'their', 'evening', 'songs', 'as', 'the', 'gentle', 'breeze', 'rustled', 'through', 'the', 'leaves', 'of', 'the', 'surrounding', 'trees', '.', 'In', 'the', 'distance', ',', 'the', 'silhouette', 'of', 'a', 'lone', 'fisherman', 'could', 'be', 'seen', ',', 'patiently', 'waiting', 'for', 'a', 'nibble', 'on', 'his', 'line', '.', 'As', 'twilight', 'descended', ',', 'the', 'sky', 'painted', 'itself', 'in', 'hues', 'of', 'orange', 'and', 'pink', ',', 'creating', 'a', 'breathtaking', 'canvas', 'above', '.', 'It', 'was', 'a', 'moment', 'of', 'serenity', ',', 'a', 'pause', 'in', 'the', 'rush', 'of', 'life', ',', 'where', 'nature', \"'s\", 'beauty', 'enveloped', 'everything', 'in', 'its', 'embrace', '.']\n",
            "[('The', 'DT'), ('sun', 'NN'), ('dipped', 'VBD'), ('below', 'IN'), ('the', 'DT'), ('horizon', 'NN'), (',', ','), ('casting', 'VBG'), ('a', 'DT'), ('warm', 'JJ'), ('glow', 'NN'), ('over', 'IN'), ('the', 'DT'), ('tranquil', 'JJ'), ('lake', 'NN'), ('.', '.'), ('Birds', 'NNS'), ('chirped', 'VBD'), ('their', 'PRP$'), ('evening', 'JJ'), ('songs', 'NNS'), ('as', 'IN'), ('the', 'DT'), ('gentle', 'NN'), ('breeze', 'NN'), ('rustled', 'VBD'), ('through', 'IN'), ('the', 'DT'), ('leaves', 'NNS'), ('of', 'IN'), ('the', 'DT'), ('surrounding', 'VBG'), ('trees', 'NNS'), ('.', '.'), ('In', 'IN'), ('the', 'DT'), ('distance', 'NN'), (',', ','), ('the', 'DT'), ('silhouette', 'NN'), ('of', 'IN'), ('a', 'DT'), ('lone', 'NN'), ('fisherman', 'NN'), ('could', 'MD'), ('be', 'VB'), ('seen', 'VBN'), (',', ','), ('patiently', 'RB'), ('waiting', 'VBG'), ('for', 'IN'), ('a', 'DT'), ('nibble', 'JJ'), ('on', 'IN'), ('his', 'PRP$'), ('line', 'NN'), ('.', '.'), ('As', 'IN'), ('twilight', 'NN'), ('descended', 'VBD'), (',', ','), ('the', 'DT'), ('sky', 'NN'), ('painted', 'VBD'), ('itself', 'PRP'), ('in', 'IN'), ('hues', 'NNS'), ('of', 'IN'), ('orange', 'NN'), ('and', 'CC'), ('pink', 'NN'), (',', ','), ('creating', 'VBG'), ('a', 'DT'), ('breathtaking', 'NN'), ('canvas', 'NN'), ('above', 'IN'), ('.', '.'), ('It', 'PRP'), ('was', 'VBD'), ('a', 'DT'), ('moment', 'NN'), ('of', 'IN'), ('serenity', 'NN'), (',', ','), ('a', 'DT'), ('pause', 'NN'), ('in', 'IN'), ('the', 'DT'), ('rush', 'NN'), ('of', 'IN'), ('life', 'NN'), (',', ','), ('where', 'WRB'), ('nature', 'NN'), (\"'s\", 'POS'), ('beauty', 'NN'), ('enveloped', 'VBD'), ('everything', 'NN'), ('in', 'IN'), ('its', 'PRP$'), ('embrace', 'NN'), ('.', '.')]\n",
            "[(('The', 'DT'), ('sun', 'NN')), (('sun', 'NN'), ('dipped', 'VBD')), (('dipped', 'VBD'), ('below', 'IN')), (('below', 'IN'), ('the', 'DT')), (('the', 'DT'), ('horizon', 'NN')), (('horizon', 'NN'), (',', ',')), ((',', ','), ('casting', 'VBG')), (('casting', 'VBG'), ('a', 'DT')), (('a', 'DT'), ('warm', 'JJ')), (('warm', 'JJ'), ('glow', 'NN')), (('glow', 'NN'), ('over', 'IN')), (('over', 'IN'), ('the', 'DT')), (('the', 'DT'), ('tranquil', 'JJ')), (('tranquil', 'JJ'), ('lake', 'NN')), (('lake', 'NN'), ('.', '.')), (('.', '.'), ('Birds', 'NNS')), (('Birds', 'NNS'), ('chirped', 'VBD')), (('chirped', 'VBD'), ('their', 'PRP$')), (('their', 'PRP$'), ('evening', 'JJ')), (('evening', 'JJ'), ('songs', 'NNS')), (('songs', 'NNS'), ('as', 'IN')), (('as', 'IN'), ('the', 'DT')), (('the', 'DT'), ('gentle', 'NN')), (('gentle', 'NN'), ('breeze', 'NN')), (('breeze', 'NN'), ('rustled', 'VBD')), (('rustled', 'VBD'), ('through', 'IN')), (('through', 'IN'), ('the', 'DT')), (('the', 'DT'), ('leaves', 'NNS')), (('leaves', 'NNS'), ('of', 'IN')), (('of', 'IN'), ('the', 'DT')), (('the', 'DT'), ('surrounding', 'VBG')), (('surrounding', 'VBG'), ('trees', 'NNS')), (('trees', 'NNS'), ('.', '.')), (('.', '.'), ('In', 'IN')), (('In', 'IN'), ('the', 'DT')), (('the', 'DT'), ('distance', 'NN')), (('distance', 'NN'), (',', ',')), ((',', ','), ('the', 'DT')), (('the', 'DT'), ('silhouette', 'NN')), (('silhouette', 'NN'), ('of', 'IN')), (('of', 'IN'), ('a', 'DT')), (('a', 'DT'), ('lone', 'NN')), (('lone', 'NN'), ('fisherman', 'NN')), (('fisherman', 'NN'), ('could', 'MD')), (('could', 'MD'), ('be', 'VB')), (('be', 'VB'), ('seen', 'VBN')), (('seen', 'VBN'), (',', ',')), ((',', ','), ('patiently', 'RB')), (('patiently', 'RB'), ('waiting', 'VBG')), (('waiting', 'VBG'), ('for', 'IN')), (('for', 'IN'), ('a', 'DT')), (('a', 'DT'), ('nibble', 'JJ')), (('nibble', 'JJ'), ('on', 'IN')), (('on', 'IN'), ('his', 'PRP$')), (('his', 'PRP$'), ('line', 'NN')), (('line', 'NN'), ('.', '.')), (('.', '.'), ('As', 'IN')), (('As', 'IN'), ('twilight', 'NN')), (('twilight', 'NN'), ('descended', 'VBD')), (('descended', 'VBD'), (',', ',')), ((',', ','), ('the', 'DT')), (('the', 'DT'), ('sky', 'NN')), (('sky', 'NN'), ('painted', 'VBD')), (('painted', 'VBD'), ('itself', 'PRP')), (('itself', 'PRP'), ('in', 'IN')), (('in', 'IN'), ('hues', 'NNS')), (('hues', 'NNS'), ('of', 'IN')), (('of', 'IN'), ('orange', 'NN')), (('orange', 'NN'), ('and', 'CC')), (('and', 'CC'), ('pink', 'NN')), (('pink', 'NN'), (',', ',')), ((',', ','), ('creating', 'VBG')), (('creating', 'VBG'), ('a', 'DT')), (('a', 'DT'), ('breathtaking', 'NN')), (('breathtaking', 'NN'), ('canvas', 'NN')), (('canvas', 'NN'), ('above', 'IN')), (('above', 'IN'), ('.', '.')), (('.', '.'), ('It', 'PRP')), (('It', 'PRP'), ('was', 'VBD')), (('was', 'VBD'), ('a', 'DT')), (('a', 'DT'), ('moment', 'NN')), (('moment', 'NN'), ('of', 'IN')), (('of', 'IN'), ('serenity', 'NN')), (('serenity', 'NN'), (',', ',')), ((',', ','), ('a', 'DT')), (('a', 'DT'), ('pause', 'NN')), (('pause', 'NN'), ('in', 'IN')), (('in', 'IN'), ('the', 'DT')), (('the', 'DT'), ('rush', 'NN')), (('rush', 'NN'), ('of', 'IN')), (('of', 'IN'), ('life', 'NN')), (('life', 'NN'), (',', ',')), ((',', ','), ('where', 'WRB')), (('where', 'WRB'), ('nature', 'NN')), (('nature', 'NN'), (\"'s\", 'POS')), ((\"'s\", 'POS'), ('beauty', 'NN')), (('beauty', 'NN'), ('enveloped', 'VBD')), (('enveloped', 'VBD'), ('everything', 'NN')), (('everything', 'NN'), ('in', 'IN')), (('in', 'IN'), ('its', 'PRP$')), (('its', 'PRP$'), ('embrace', 'NN')), (('embrace', 'NN'), ('.', '.'))]\n"
          ]
        },
        {
          "output_type": "stream",
          "name": "stderr",
          "text": [
            "[nltk_data] Downloading package averaged_perceptron_tagger to\n",
            "[nltk_data]     /root/nltk_data...\n",
            "[nltk_data]   Package averaged_perceptron_tagger is already up-to-\n",
            "[nltk_data]       date!\n"
          ]
        }
      ]
    },
    {
      "cell_type": "code",
      "source": [
        "# 4) Implement a program for RegEx text.\n",
        "import re\n",
        "\n",
        "number_regex = r'\\b\\d+\\b'\n",
        "word_regex = r'\\b\\w+\\b'\n",
        "special_char_regex = r'[@#]'\n",
        "\n",
        "numbers = re.findall(number_regex, text)\n",
        "words = re.findall(word_regex, text)\n",
        "special_chars = re.findall(special_char_regex, text)\n",
        "\n",
        "print(\"Original Text:\", text)\n",
        "print(\"Tokens:\", tokens)\n",
        "print(\"Numbers:\", numbers)\n",
        "print(\"Words:\", words)\n",
        "print(\"Special Characters:\", special_chars)"
      ],
      "metadata": {
        "colab": {
          "base_uri": "https://localhost:8080/"
        },
        "id": "2T9OAU6cKWJZ",
        "outputId": "49272a31-33f7-4af2-c47b-96925547ddae"
      },
      "execution_count": null,
      "outputs": [
        {
          "output_type": "stream",
          "name": "stdout",
          "text": [
            "Original Text: The sun dipped below the horizon, casting a warm glow over the tranquil lake. Birds chirped their evening songs as the gentle breeze rustled through the leaves of the surrounding trees. In the distance, the silhouette of a lone fisherman could be seen, patiently waiting for a nibble on his line. As twilight descended, the sky painted itself in hues of orange and pink, creating a breathtaking canvas above. It was a moment of serenity, a pause in the rush of life, where nature's beauty enveloped everything in its embrace.\n",
            "Tokens: ['The', 'sun', 'dipped', 'below', 'the', 'horizon', ',', 'casting', 'a', 'warm', 'glow', 'over', 'the', 'tranquil', 'lake', '.', 'Birds', 'chirped', 'their', 'evening', 'songs', 'as', 'the', 'gentle', 'breeze', 'rustled', 'through', 'the', 'leaves', 'of', 'the', 'surrounding', 'trees', '.', 'In', 'the', 'distance', ',', 'the', 'silhouette', 'of', 'a', 'lone', 'fisherman', 'could', 'be', 'seen', ',', 'patiently', 'waiting', 'for', 'a', 'nibble', 'on', 'his', 'line', '.', 'As', 'twilight', 'descended', ',', 'the', 'sky', 'painted', 'itself', 'in', 'hues', 'of', 'orange', 'and', 'pink', ',', 'creating', 'a', 'breathtaking', 'canvas', 'above', '.', 'It', 'was', 'a', 'moment', 'of', 'serenity', ',', 'a', 'pause', 'in', 'the', 'rush', 'of', 'life', ',', 'where', 'nature', \"'s\", 'beauty', 'enveloped', 'everything', 'in', 'its', 'embrace', '.']\n",
            "Numbers: []\n",
            "Words: ['The', 'sun', 'dipped', 'below', 'the', 'horizon', 'casting', 'a', 'warm', 'glow', 'over', 'the', 'tranquil', 'lake', 'Birds', 'chirped', 'their', 'evening', 'songs', 'as', 'the', 'gentle', 'breeze', 'rustled', 'through', 'the', 'leaves', 'of', 'the', 'surrounding', 'trees', 'In', 'the', 'distance', 'the', 'silhouette', 'of', 'a', 'lone', 'fisherman', 'could', 'be', 'seen', 'patiently', 'waiting', 'for', 'a', 'nibble', 'on', 'his', 'line', 'As', 'twilight', 'descended', 'the', 'sky', 'painted', 'itself', 'in', 'hues', 'of', 'orange', 'and', 'pink', 'creating', 'a', 'breathtaking', 'canvas', 'above', 'It', 'was', 'a', 'moment', 'of', 'serenity', 'a', 'pause', 'in', 'the', 'rush', 'of', 'life', 'where', 'nature', 's', 'beauty', 'enveloped', 'everything', 'in', 'its', 'embrace']\n",
            "Special Characters: []\n"
          ]
        }
      ]
    },
    {
      "cell_type": "code",
      "source": [
        "import re\n",
        "\n",
        "input = \"3k4%DaorYdjxUUWdypNbf0zJQQR+Wnfxy&2G5n9TOQEMobO0q*%GuWjBHo0%2e=wB%2pUWBSzwj!YnTR2$Ur428$+7kJQWAVTQsJ\"\n",
        "number_regexp = r'[0-9]+'\n",
        "word_regexp = r'[a-z A-Z]+'\n",
        "special_regexp = r'[^a-z A-Z 0-9]+'\n",
        "\n",
        "numbers = re.findall(number_regexp,input)\n",
        "words = re.findall(word_regexp,input)\n",
        "specials = re.findall(special_regexp,input)\n",
        "\n",
        "print(input)\n",
        "print(input.split())\n",
        "print(numbers)\n",
        "print(words)\n",
        "print(specials)"
      ],
      "metadata": {
        "colab": {
          "base_uri": "https://localhost:8080/"
        },
        "id": "TNWdfrRt7YA_",
        "outputId": "974374dc-3348-4c27-ff1b-ba4e9769b52c"
      },
      "execution_count": null,
      "outputs": [
        {
          "output_type": "stream",
          "name": "stdout",
          "text": [
            "3k4%DaorYdjxUUWdypNbf0zJQQR+Wnfxy&2G5n9TOQEMobO0q*%GuWjBHo0%2e=wB%2pUWBSzwj!YnTR2$Ur428$+7kJQWAVTQsJ\n",
            "['3k4%DaorYdjxUUWdypNbf0zJQQR+Wnfxy&2G5n9TOQEMobO0q*%GuWjBHo0%2e=wB%2pUWBSzwj!YnTR2$Ur428$+7kJQWAVTQsJ']\n",
            "['3', '4', '0', '2', '5', '9', '0', '0', '2', '2', '2', '428', '7']\n",
            "['k', 'DaorYdjxUUWdypNbf', 'zJQQR', 'Wnfxy', 'G', 'n', 'TOQEMobO', 'q', 'GuWjBHo', 'e', 'wB', 'pUWBSzwj', 'YnTR', 'Ur', 'kJQWAVTQsJ']\n",
            "['%', '+', '&', '*%', '%', '=', '%', '!', '$', '$+']\n"
          ]
        }
      ]
    },
    {
      "cell_type": "code",
      "source": [
        "# 5) Implement a program for Brill tagger.\n",
        "from nltk.tag import brill, brill_trainer\n",
        "from nltk.tag.brill import Template, Pos, Word\n",
        "\n",
        "training_data = [\n",
        "    [('This', 'DT'), ('is', 'VBZ'), ('an', 'DT'), ('example', 'NN')],\n",
        "    [('I', 'PRP'), ('like', 'VBP'), ('NLTK', 'NNP')],\n",
        "    [('The', 'DT'), ('cat', 'NN'), ('is', 'VBZ'), ('on', 'IN'), ('the', 'DT'), ('mat', 'NN')]\n",
        "]\n",
        "\n",
        "templates = [\n",
        "    Template(Pos([-1])),\n",
        "    Template(Pos([1])),\n",
        "    Template(Pos([-1]), Pos([1])),\n",
        "    Template(Pos([-2])),\n",
        "    Template(Pos([2])),\n",
        "    Template(Pos([-2]), Pos([-1])),\n",
        "    Template(Pos([1]), Pos([2])),\n",
        "    Template(Word([-1])),\n",
        "    Template(Word([1])),\n",
        "    Template(Word([-1]), Word([1])),\n",
        "]\n",
        "\n",
        "trainer = brill_trainer.BrillTaggerTrainer(initial_tagger=nltk.DefaultTagger('NN'), templates=templates, trace=3)\n",
        "\n",
        "brill_tagger = trainer.train(training_data, max_rules=10)\n",
        "\n",
        "test_sentence = [('This', ''), ('is', ''), ('a', ''), ('test', '')]\n",
        "tagged_sentence = brill_tagger.tag(test_sentence)\n",
        "print(tagged_sentence)\n"
      ],
      "metadata": {
        "colab": {
          "base_uri": "https://localhost:8080/"
        },
        "id": "pqtl0o6TK8VZ",
        "outputId": "00d83513-5315-42b4-9bf6-556b3e570722"
      },
      "execution_count": null,
      "outputs": [
        {
          "output_type": "stream",
          "name": "stdout",
          "text": [
            "TBL train (fast) (seqs: 3; tokens: 13; tpls: 10; min score: 2; min acc: None)\n",
            "Finding initial useful rules...\n",
            "    Found 52 useful rules.\n",
            "\n",
            "           B      |\n",
            "   S   F   r   O  |        Score = Fixed - Broken\n",
            "   c   i   o   t  |  R     Fixed = num tags changed incorrect -> correct\n",
            "   o   x   k   h  |  u     Broken = num tags changed correct -> incorrect\n",
            "   r   e   e   e  |  l     Other = num tags changed incorrect -> incorrect\n",
            "   e   d   n   r  |  e\n",
            "------------------+-------------------------------------------------------\n",
            "   3   4   1   5  | NN->DT if Pos:NN@[1]\n",
            "   2   2   0   2  | DT->VBZ if Pos:DT@[-1] & Pos:DT@[1]\n",
            "[(('This', ''), 'DT'), (('is', ''), 'VBZ'), (('a', ''), 'DT'), (('test', ''), 'NN')]\n"
          ]
        }
      ]
    },
    {
      "cell_type": "code",
      "source": [
        "# 6) Implement a program for NER tagger.\n",
        "nltk.download('punkt')\n",
        "nltk.download('averaged_perceptron_tagger')\n",
        "nltk.download('maxent_ne_chunker')\n",
        "nltk.download('words')\n",
        "\n",
        "ner_tagged_text = nltk.ne_chunk(nltk.pos_tag(word_tokenize(text)), binary=False)\n",
        "print(ner_tagged_text)"
      ],
      "metadata": {
        "colab": {
          "base_uri": "https://localhost:8080/"
        },
        "id": "ulhYHojRLChs",
        "outputId": "1d841feb-5531-4357-88ef-3dc7c4040b4e"
      },
      "execution_count": null,
      "outputs": [
        {
          "output_type": "stream",
          "name": "stderr",
          "text": [
            "[nltk_data] Downloading package punkt to /root/nltk_data...\n",
            "[nltk_data]   Package punkt is already up-to-date!\n",
            "[nltk_data] Downloading package averaged_perceptron_tagger to\n",
            "[nltk_data]     /root/nltk_data...\n",
            "[nltk_data]   Package averaged_perceptron_tagger is already up-to-\n",
            "[nltk_data]       date!\n",
            "[nltk_data] Downloading package maxent_ne_chunker to\n",
            "[nltk_data]     /root/nltk_data...\n",
            "[nltk_data]   Unzipping chunkers/maxent_ne_chunker.zip.\n",
            "[nltk_data] Downloading package words to /root/nltk_data...\n",
            "[nltk_data]   Unzipping corpora/words.zip.\n"
          ]
        },
        {
          "output_type": "stream",
          "name": "stdout",
          "text": [
            "(S\n",
            "  The/DT\n",
            "  sun/NN\n",
            "  dipped/VBD\n",
            "  below/IN\n",
            "  the/DT\n",
            "  horizon/NN\n",
            "  ,/,\n",
            "  casting/VBG\n",
            "  a/DT\n",
            "  warm/JJ\n",
            "  glow/NN\n",
            "  over/IN\n",
            "  the/DT\n",
            "  tranquil/JJ\n",
            "  lake/NN\n",
            "  ./.\n",
            "  (PERSON Birds/NNS)\n",
            "  chirped/VBD\n",
            "  their/PRP$\n",
            "  evening/JJ\n",
            "  songs/NNS\n",
            "  as/IN\n",
            "  the/DT\n",
            "  gentle/NN\n",
            "  breeze/NN\n",
            "  rustled/VBD\n",
            "  through/IN\n",
            "  the/DT\n",
            "  leaves/NNS\n",
            "  of/IN\n",
            "  the/DT\n",
            "  surrounding/VBG\n",
            "  trees/NNS\n",
            "  ./.\n",
            "  In/IN\n",
            "  the/DT\n",
            "  distance/NN\n",
            "  ,/,\n",
            "  the/DT\n",
            "  silhouette/NN\n",
            "  of/IN\n",
            "  a/DT\n",
            "  lone/NN\n",
            "  fisherman/NN\n",
            "  could/MD\n",
            "  be/VB\n",
            "  seen/VBN\n",
            "  ,/,\n",
            "  patiently/RB\n",
            "  waiting/VBG\n",
            "  for/IN\n",
            "  a/DT\n",
            "  nibble/JJ\n",
            "  on/IN\n",
            "  his/PRP$\n",
            "  line/NN\n",
            "  ./.\n",
            "  As/IN\n",
            "  twilight/NN\n",
            "  descended/VBD\n",
            "  ,/,\n",
            "  the/DT\n",
            "  sky/NN\n",
            "  painted/VBD\n",
            "  itself/PRP\n",
            "  in/IN\n",
            "  hues/NNS\n",
            "  of/IN\n",
            "  orange/NN\n",
            "  and/CC\n",
            "  pink/NN\n",
            "  ,/,\n",
            "  creating/VBG\n",
            "  a/DT\n",
            "  breathtaking/NN\n",
            "  canvas/NN\n",
            "  above/IN\n",
            "  ./.\n",
            "  It/PRP\n",
            "  was/VBD\n",
            "  a/DT\n",
            "  moment/NN\n",
            "  of/IN\n",
            "  serenity/NN\n",
            "  ,/,\n",
            "  a/DT\n",
            "  pause/NN\n",
            "  in/IN\n",
            "  the/DT\n",
            "  rush/NN\n",
            "  of/IN\n",
            "  life/NN\n",
            "  ,/,\n",
            "  where/WRB\n",
            "  nature/NN\n",
            "  's/POS\n",
            "  beauty/NN\n",
            "  enveloped/VBD\n",
            "  everything/NN\n",
            "  in/IN\n",
            "  its/PRP$\n",
            "  embrace/NN\n",
            "  ./.)\n"
          ]
        }
      ]
    },
    {
      "cell_type": "code",
      "source": [
        "# 7) Write a tagger that tags date and money expressions.\n",
        "from nltk.tag import RegexpTagger\n",
        "\n",
        "date_regex = RegexpTagger([(r'(\\d{2})[/.-](\\d{2})[/.-](\\d{4})$','DATE'),(r'\\$','MONEY')])\n",
        "test_tokens = \"I will be flying on sat 10-02-2014 with around 10M $ \".split()\n",
        "print(date_regex.tag(test_tokens))"
      ],
      "metadata": {
        "colab": {
          "base_uri": "https://localhost:8080/"
        },
        "id": "Oz-YqK2-LHRR",
        "outputId": "9e03e885-f27d-4494-a5ae-0a547b519237"
      },
      "execution_count": null,
      "outputs": [
        {
          "output_type": "stream",
          "name": "stdout",
          "text": [
            "[('I', None), ('will', None), ('be', None), ('flying', None), ('on', None), ('sat', None), ('10-02-2014', 'DATE'), ('with', None), ('around', None), ('10M', None), ('$', 'MONEY')]\n"
          ]
        }
      ]
    },
    {
      "cell_type": "code",
      "source": [
        "# 8) Implement unigram, bigram and trigram taggers.\n",
        "from nltk.corpus import brown\n",
        "from nltk.tag import UnigramTagger, DefaultTagger, BigramTagger, TrigramTagger\n",
        "\n",
        "nltk.download('brown')\n",
        "\n",
        "brown_tagged_sents = brown.tagged_sents()\n",
        "\n",
        "train_data = brown_tagged_sents[:int(len(brown_tagged_sents) * 0.9)]\n",
        "test_data = brown_tagged_sents[int(len(brown_tagged_sents) * 0.9):]\n",
        "\n",
        "default_tagger = DefaultTagger('NN')\n",
        "\n",
        "unigram_tagger = UnigramTagger(train_data, backoff=default_tagger)\n",
        "print(\"Unigram Tagger Evaluation:\", unigram_tagger.evaluate(test_data))\n",
        "\n",
        "bigram_tagger = BigramTagger(train_data, backoff=unigram_tagger)\n",
        "print(\"Bigram Tagger Evaluation:\", bigram_tagger.evaluate(test_data))\n",
        "\n",
        "trigram_tagger = TrigramTagger(train_data, backoff=bigram_tagger)\n",
        "print(\"Trigram Tagger Evaluation:\", trigram_tagger.evaluate(test_data))"
      ],
      "metadata": {
        "colab": {
          "base_uri": "https://localhost:8080/"
        },
        "id": "wC7wTqGyLNl_",
        "outputId": "8d4c4d01-9cf3-4440-ae18-a932acb30666"
      },
      "execution_count": null,
      "outputs": [
        {
          "output_type": "stream",
          "name": "stderr",
          "text": [
            "[nltk_data] Downloading package brown to /root/nltk_data...\n",
            "[nltk_data]   Unzipping corpora/brown.zip.\n",
            "<ipython-input-13-16f62198cfa4>:15: DeprecationWarning: \n",
            "  Function evaluate() has been deprecated.  Use accuracy(gold)\n",
            "  instead.\n",
            "  print(\"Unigram Tagger Evaluation:\", unigram_tagger.evaluate(test_data))\n"
          ]
        },
        {
          "output_type": "stream",
          "name": "stdout",
          "text": [
            "Unigram Tagger Evaluation: 0.8912742817627459\n"
          ]
        },
        {
          "output_type": "stream",
          "name": "stderr",
          "text": [
            "<ipython-input-13-16f62198cfa4>:18: DeprecationWarning: \n",
            "  Function evaluate() has been deprecated.  Use accuracy(gold)\n",
            "  instead.\n",
            "  print(\"Bigram Tagger Evaluation:\", bigram_tagger.evaluate(test_data))\n"
          ]
        },
        {
          "output_type": "stream",
          "name": "stdout",
          "text": [
            "Bigram Tagger Evaluation: 0.9125751765470128\n"
          ]
        },
        {
          "output_type": "stream",
          "name": "stderr",
          "text": [
            "<ipython-input-13-16f62198cfa4>:21: DeprecationWarning: \n",
            "  Function evaluate() has been deprecated.  Use accuracy(gold)\n",
            "  instead.\n",
            "  print(\"Trigram Tagger Evaluation:\", trigram_tagger.evaluate(test_data))\n"
          ]
        },
        {
          "output_type": "stream",
          "name": "stdout",
          "text": [
            "Trigram Tagger Evaluation: 0.9130466670857693\n"
          ]
        }
      ]
    },
    {
      "cell_type": "code",
      "source": [
        "# 9) Implement affix tagger.\n",
        "from nltk.tag import AffixTagger\n",
        "from nltk.corpus import treebank\n",
        "nltk.download('treebank')\n",
        "\n",
        "train_data = treebank.tagged_sents()[:3000]\n",
        "\n",
        "affix_tagger = AffixTagger(train_data)\n",
        "\n",
        "test_sentence = \"This is a sample sentence.\"\n",
        "tagged_sentence = affix_tagger.tag(nltk.word_tokenize(test_sentence))\n",
        "\n",
        "print(\"Tagged Sentence:\", tagged_sentence)"
      ],
      "metadata": {
        "colab": {
          "base_uri": "https://localhost:8080/"
        },
        "id": "F1E3hZ6hLRl6",
        "outputId": "ab7d3d26-f219-4655-d9d2-fcb5026926bb"
      },
      "execution_count": null,
      "outputs": [
        {
          "output_type": "stream",
          "name": "stderr",
          "text": [
            "[nltk_data] Downloading package treebank to /root/nltk_data...\n",
            "[nltk_data]   Unzipping corpora/treebank.zip.\n"
          ]
        },
        {
          "output_type": "stream",
          "name": "stdout",
          "text": [
            "Tagged Sentence: [('This', None), ('is', None), ('a', None), ('sample', 'NNS'), ('sentence', 'NN'), ('.', None)]\n"
          ]
        }
      ]
    }
  ]
}
