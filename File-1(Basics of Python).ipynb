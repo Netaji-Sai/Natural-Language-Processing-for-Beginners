{
  "nbformat": 4,
  "nbformat_minor": 0,
  "metadata": {
    "colab": {
      "provenance": []
    },
    "kernelspec": {
      "name": "python3",
      "display_name": "Python 3"
    },
    "language_info": {
      "name": "python"
    }
  },
  "cells": [
    {
      "cell_type": "markdown",
      "source": [
        "### **Suru Netaji Sai**\n",
        "### **21BCE9182**\n",
        "# **Assignment-1 : Basic Programs in Python**"
      ],
      "metadata": {
        "id": "ChY07XHW9cZy"
      }
    },
    {
      "cell_type": "code",
      "execution_count": null,
      "metadata": {
        "id": "civVzuJF8qos"
      },
      "outputs": [],
      "source": [
        "a = 10\n",
        "b = 'Netaji Sai'"
      ]
    },
    {
      "cell_type": "code",
      "source": [
        "type(a)"
      ],
      "metadata": {
        "colab": {
          "base_uri": "https://localhost:8080/"
        },
        "id": "6ItJ7HOE956q",
        "outputId": "90b961f9-3163-4780-f3ba-5d44c9335408"
      },
      "execution_count": null,
      "outputs": [
        {
          "output_type": "execute_result",
          "data": {
            "text/plain": [
              "int"
            ]
          },
          "metadata": {},
          "execution_count": 2
        }
      ]
    },
    {
      "cell_type": "code",
      "source": [
        "a,b"
      ],
      "metadata": {
        "colab": {
          "base_uri": "https://localhost:8080/"
        },
        "id": "RWNpaafT975_",
        "outputId": "9b790d14-777f-437b-f5ee-bf31f3b3d6d9"
      },
      "execution_count": null,
      "outputs": [
        {
          "output_type": "execute_result",
          "data": {
            "text/plain": [
              "(10, 'Netaji Sai')"
            ]
          },
          "metadata": {},
          "execution_count": 3
        }
      ]
    },
    {
      "cell_type": "markdown",
      "source": [
        "String"
      ],
      "metadata": {
        "id": "SN820Y5u-8x0"
      }
    },
    {
      "cell_type": "code",
      "source": [
        "string = \"Hi How are you?\""
      ],
      "metadata": {
        "id": "DtarSNJ199Nc"
      },
      "execution_count": null,
      "outputs": []
    },
    {
      "cell_type": "code",
      "source": [
        "string[len(string)-1::-1]"
      ],
      "metadata": {
        "colab": {
          "base_uri": "https://localhost:8080/",
          "height": 35
        },
        "id": "n9wTiKknnI4s",
        "outputId": "d1a5218b-c9a5-4a52-d447-47697264a6f9"
      },
      "execution_count": null,
      "outputs": [
        {
          "output_type": "execute_result",
          "data": {
            "text/plain": [
              "'?uoy era woH iH'"
            ],
            "application/vnd.google.colaboratory.intrinsic+json": {
              "type": "string"
            }
          },
          "metadata": {},
          "execution_count": 6
        }
      ]
    },
    {
      "cell_type": "code",
      "source": [
        "string[-2]"
      ],
      "metadata": {
        "colab": {
          "base_uri": "https://localhost:8080/",
          "height": 35
        },
        "id": "PYLhRd7z-A8q",
        "outputId": "1d47372e-6e4c-4608-f492-7c9af1eb90b2"
      },
      "execution_count": null,
      "outputs": [
        {
          "output_type": "execute_result",
          "data": {
            "text/plain": [
              "'u'"
            ],
            "application/vnd.google.colaboratory.intrinsic+json": {
              "type": "string"
            }
          },
          "metadata": {},
          "execution_count": 5
        }
      ]
    },
    {
      "cell_type": "code",
      "source": [
        "string[14]"
      ],
      "metadata": {
        "colab": {
          "base_uri": "https://localhost:8080/",
          "height": 35
        },
        "id": "J7Z2WUA_-DVF",
        "outputId": "fe19d01a-cfee-426b-f32a-cc2fb9e3b8d0"
      },
      "execution_count": null,
      "outputs": [
        {
          "output_type": "execute_result",
          "data": {
            "text/plain": [
              "'?'"
            ],
            "application/vnd.google.colaboratory.intrinsic+json": {
              "type": "string"
            }
          },
          "metadata": {},
          "execution_count": 6
        }
      ]
    },
    {
      "cell_type": "code",
      "source": [
        "string[3::1]"
      ],
      "metadata": {
        "colab": {
          "base_uri": "https://localhost:8080/",
          "height": 35
        },
        "id": "0szbVjQQ-Fku",
        "outputId": "28eab60e-04e2-4c68-f170-ffa37e4ef120"
      },
      "execution_count": null,
      "outputs": [
        {
          "output_type": "execute_result",
          "data": {
            "text/plain": [
              "'How are you?'"
            ],
            "application/vnd.google.colaboratory.intrinsic+json": {
              "type": "string"
            }
          },
          "metadata": {},
          "execution_count": 7
        }
      ]
    },
    {
      "cell_type": "markdown",
      "source": [
        "List"
      ],
      "metadata": {
        "id": "gvlC3AYq-7Tl"
      }
    },
    {
      "cell_type": "code",
      "source": [
        "p = [69.69,69,'69']\n",
        "p"
      ],
      "metadata": {
        "colab": {
          "base_uri": "https://localhost:8080/"
        },
        "id": "-yIjHqZ4-Hjn",
        "outputId": "0c491ea5-de2d-44c8-bd02-9d0444bce5da"
      },
      "execution_count": null,
      "outputs": [
        {
          "output_type": "execute_result",
          "data": {
            "text/plain": [
              "[69.69, 69, '69']"
            ]
          },
          "metadata": {},
          "execution_count": 8
        }
      ]
    },
    {
      "cell_type": "code",
      "source": [
        "type(p)"
      ],
      "metadata": {
        "colab": {
          "base_uri": "https://localhost:8080/"
        },
        "id": "A-epHzX9-My7",
        "outputId": "ef351977-3f7b-4206-99a3-6280e311692e"
      },
      "execution_count": null,
      "outputs": [
        {
          "output_type": "execute_result",
          "data": {
            "text/plain": [
              "list"
            ]
          },
          "metadata": {},
          "execution_count": 9
        }
      ]
    },
    {
      "cell_type": "code",
      "source": [
        "p.insert(2,\"Netaji\")\n",
        "p"
      ],
      "metadata": {
        "colab": {
          "base_uri": "https://localhost:8080/"
        },
        "id": "jFeuwwEf-QvP",
        "outputId": "2b30aa29-2f1c-43c0-e2cc-6694329cacfe"
      },
      "execution_count": null,
      "outputs": [
        {
          "output_type": "execute_result",
          "data": {
            "text/plain": [
              "[69.69, 69, 'Netaji', '69']"
            ]
          },
          "metadata": {},
          "execution_count": 10
        }
      ]
    },
    {
      "cell_type": "code",
      "source": [
        "p[0] = 'Sai'"
      ],
      "metadata": {
        "id": "V_6ODPlgoUaE"
      },
      "execution_count": null,
      "outputs": []
    },
    {
      "cell_type": "code",
      "source": [
        "len(p)"
      ],
      "metadata": {
        "colab": {
          "base_uri": "https://localhost:8080/"
        },
        "id": "cD5piIeg-Ypv",
        "outputId": "b1e33ec4-c575-40cd-e6b5-16678dad60c8"
      },
      "execution_count": null,
      "outputs": [
        {
          "output_type": "execute_result",
          "data": {
            "text/plain": [
              "3"
            ]
          },
          "metadata": {},
          "execution_count": 14
        }
      ]
    },
    {
      "cell_type": "code",
      "source": [
        "p"
      ],
      "metadata": {
        "colab": {
          "base_uri": "https://localhost:8080/"
        },
        "id": "Ce0ru-z1-dza",
        "outputId": "a1aca6ff-1468-4862-81a8-8122dbea2f6b"
      },
      "execution_count": null,
      "outputs": [
        {
          "output_type": "execute_result",
          "data": {
            "text/plain": [
              "['Sai', 'Netaji', '69']"
            ]
          },
          "metadata": {},
          "execution_count": 15
        }
      ]
    },
    {
      "cell_type": "markdown",
      "source": [
        "Tuple"
      ],
      "metadata": {
        "id": "JBQd8Ixl--3V"
      }
    },
    {
      "cell_type": "code",
      "source": [
        "t = (96,96.96,'96')\n",
        "t"
      ],
      "metadata": {
        "colab": {
          "base_uri": "https://localhost:8080/"
        },
        "id": "e0QKW2ny-gvA",
        "outputId": "d25bc7d1-b02d-4bb4-d275-094214bcd916"
      },
      "execution_count": null,
      "outputs": [
        {
          "output_type": "execute_result",
          "data": {
            "text/plain": [
              "(96, 96.96, '96')"
            ]
          },
          "metadata": {},
          "execution_count": 15
        }
      ]
    },
    {
      "cell_type": "code",
      "source": [
        "type(t)"
      ],
      "metadata": {
        "colab": {
          "base_uri": "https://localhost:8080/"
        },
        "id": "xiDXYYfH_GTb",
        "outputId": "90803e24-df30-43b8-c72b-9158b428693d"
      },
      "execution_count": null,
      "outputs": [
        {
          "output_type": "execute_result",
          "data": {
            "text/plain": [
              "tuple"
            ]
          },
          "metadata": {},
          "execution_count": 16
        }
      ]
    },
    {
      "cell_type": "code",
      "source": [
        "t[1]"
      ],
      "metadata": {
        "colab": {
          "base_uri": "https://localhost:8080/"
        },
        "id": "Yq-z23P1_H7C",
        "outputId": "7251e57f-0f45-4976-b262-8ea20716f71a"
      },
      "execution_count": null,
      "outputs": [
        {
          "output_type": "execute_result",
          "data": {
            "text/plain": [
              "96.96"
            ]
          },
          "metadata": {},
          "execution_count": 17
        }
      ]
    },
    {
      "cell_type": "code",
      "source": [
        "t[1:]"
      ],
      "metadata": {
        "colab": {
          "base_uri": "https://localhost:8080/"
        },
        "id": "VrhAr9VE_I0z",
        "outputId": "f25ee9e4-a85d-4cf1-f74a-82e7ea9c11e0"
      },
      "execution_count": null,
      "outputs": [
        {
          "output_type": "execute_result",
          "data": {
            "text/plain": [
              "(96.96, '96')"
            ]
          },
          "metadata": {},
          "execution_count": 18
        }
      ]
    },
    {
      "cell_type": "code",
      "source": [
        "a = list(t)\n",
        "a"
      ],
      "metadata": {
        "colab": {
          "base_uri": "https://localhost:8080/"
        },
        "id": "_frJ4t0z_JmA",
        "outputId": "650cca4e-a6c2-4ae9-98f3-35bff6b17ec2"
      },
      "execution_count": null,
      "outputs": [
        {
          "output_type": "execute_result",
          "data": {
            "text/plain": [
              "[96, 96.96, '96']"
            ]
          },
          "metadata": {},
          "execution_count": 19
        }
      ]
    },
    {
      "cell_type": "code",
      "source": [
        "type(a)"
      ],
      "metadata": {
        "colab": {
          "base_uri": "https://localhost:8080/"
        },
        "id": "lePwGaBF_Lug",
        "outputId": "7f1b7cde-2478-47f6-ffb7-6d7ea6be7336"
      },
      "execution_count": null,
      "outputs": [
        {
          "output_type": "execute_result",
          "data": {
            "text/plain": [
              "list"
            ]
          },
          "metadata": {},
          "execution_count": 20
        }
      ]
    },
    {
      "cell_type": "markdown",
      "source": [
        "Dictionary"
      ],
      "metadata": {
        "id": "AYRvxekw_PGS"
      }
    },
    {
      "cell_type": "code",
      "source": [
        "d = {'a':1,'b':2,'c':3,'d':4}\n",
        "d"
      ],
      "metadata": {
        "colab": {
          "base_uri": "https://localhost:8080/"
        },
        "id": "GYC8DxT4_Na3",
        "outputId": "ea349dfd-0759-4bd1-d8c2-c1aefe8984e0"
      },
      "execution_count": null,
      "outputs": [
        {
          "output_type": "execute_result",
          "data": {
            "text/plain": [
              "{'a': 1, 'b': 2, 'c': 3, 'd': 4}"
            ]
          },
          "metadata": {},
          "execution_count": 16
        }
      ]
    },
    {
      "cell_type": "code",
      "source": [
        "a = d.keys()"
      ],
      "metadata": {
        "id": "x_TKMJgookpO"
      },
      "execution_count": null,
      "outputs": []
    },
    {
      "cell_type": "code",
      "source": [
        "type(d)"
      ],
      "metadata": {
        "colab": {
          "base_uri": "https://localhost:8080/"
        },
        "id": "lWYuXJxJ_X16",
        "outputId": "2553203d-848b-40f3-c914-0eb592bffb3a"
      },
      "execution_count": null,
      "outputs": [
        {
          "output_type": "execute_result",
          "data": {
            "text/plain": [
              "dict"
            ]
          },
          "metadata": {},
          "execution_count": 23
        }
      ]
    },
    {
      "cell_type": "code",
      "source": [
        "type(list(a))"
      ],
      "metadata": {
        "colab": {
          "base_uri": "https://localhost:8080/"
        },
        "id": "JdYRe7Fto3UZ",
        "outputId": "2f8f2ecc-28f9-4254-e69e-4330b0134365"
      },
      "execution_count": null,
      "outputs": [
        {
          "output_type": "execute_result",
          "data": {
            "text/plain": [
              "list"
            ]
          },
          "metadata": {},
          "execution_count": 24
        }
      ]
    },
    {
      "cell_type": "code",
      "source": [
        "d['b']"
      ],
      "metadata": {
        "colab": {
          "base_uri": "https://localhost:8080/"
        },
        "id": "LFhVxSs5_Ysf",
        "outputId": "8c904242-3ed8-4108-c5ab-fdcb9fac4d95"
      },
      "execution_count": null,
      "outputs": [
        {
          "output_type": "execute_result",
          "data": {
            "text/plain": [
              "2"
            ]
          },
          "metadata": {},
          "execution_count": 24
        }
      ]
    },
    {
      "cell_type": "code",
      "source": [
        "d.get('b')"
      ],
      "metadata": {
        "colab": {
          "base_uri": "https://localhost:8080/"
        },
        "id": "B2VLXKAN_eY3",
        "outputId": "ecfc66a5-1493-4d69-85e1-245a9f9f04bc"
      },
      "execution_count": null,
      "outputs": [
        {
          "output_type": "execute_result",
          "data": {
            "text/plain": [
              "2"
            ]
          },
          "metadata": {},
          "execution_count": 25
        }
      ]
    },
    {
      "cell_type": "markdown",
      "source": [
        "String Operations"
      ],
      "metadata": {
        "id": "RoMlrqTD_ibp"
      }
    },
    {
      "cell_type": "code",
      "source": [
        "str1 = \"I am doing this as part of my NLP Lab\""
      ],
      "metadata": {
        "id": "t_Zu5GMA_gTK"
      },
      "execution_count": null,
      "outputs": []
    },
    {
      "cell_type": "code",
      "source": [
        "print(str1.split(\" \"))"
      ],
      "metadata": {
        "colab": {
          "base_uri": "https://localhost:8080/"
        },
        "id": "2OyAQEIM_nBs",
        "outputId": "477364ed-a1aa-4c01-dddd-865684d6647c"
      },
      "execution_count": null,
      "outputs": [
        {
          "output_type": "stream",
          "name": "stdout",
          "text": [
            "['I', 'am', 'doing', 'this', 'as', 'part', 'of', 'my', 'NLP', 'Lab']\n"
          ]
        }
      ]
    },
    {
      "cell_type": "code",
      "source": [
        "print(str1.upper())"
      ],
      "metadata": {
        "colab": {
          "base_uri": "https://localhost:8080/"
        },
        "id": "dCNsAf57_tzf",
        "outputId": "292aecdf-7fab-4132-b925-10d9b501dccb"
      },
      "execution_count": null,
      "outputs": [
        {
          "output_type": "stream",
          "name": "stdout",
          "text": [
            "I AM DOING THIS AS PART OF MY NLP LAB\n"
          ]
        }
      ]
    },
    {
      "cell_type": "code",
      "source": [
        "print(str1.lower())"
      ],
      "metadata": {
        "colab": {
          "base_uri": "https://localhost:8080/"
        },
        "id": "xtB7vRpL_vbM",
        "outputId": "0c8bc319-3ce0-4c10-82ca-bd764ae31276"
      },
      "execution_count": null,
      "outputs": [
        {
          "output_type": "stream",
          "name": "stdout",
          "text": [
            "i am doing this as part of my nlp lab\n"
          ]
        }
      ]
    },
    {
      "cell_type": "markdown",
      "source": [
        "NLTK"
      ],
      "metadata": {
        "id": "jLSUPpPY_zd3"
      }
    },
    {
      "cell_type": "code",
      "source": [
        "import nltk"
      ],
      "metadata": {
        "id": "LUlFhh_t_xD0"
      },
      "execution_count": null,
      "outputs": []
    },
    {
      "cell_type": "code",
      "source": [
        "print(\"NLTK is successfully imported\")"
      ],
      "metadata": {
        "colab": {
          "base_uri": "https://localhost:8080/"
        },
        "id": "wukg1GTx_1x2",
        "outputId": "3dc47834-3293-40da-8e6c-9d1e407ea0f2"
      },
      "execution_count": null,
      "outputs": [
        {
          "output_type": "stream",
          "name": "stdout",
          "text": [
            "NLTK is successfully imported\n"
          ]
        }
      ]
    },
    {
      "cell_type": "code",
      "source": [
        "lst = [1,2,3,4]\n",
        "lst"
      ],
      "metadata": {
        "colab": {
          "base_uri": "https://localhost:8080/"
        },
        "id": "V_7D-m5S_50B",
        "outputId": "134e934a-4035-4e5c-9a38-e7e23167a0ab"
      },
      "execution_count": null,
      "outputs": [
        {
          "output_type": "execute_result",
          "data": {
            "text/plain": [
              "[1, 2, 3, 4]"
            ]
          },
          "metadata": {},
          "execution_count": 26
        }
      ]
    },
    {
      "cell_type": "code",
      "source": [
        "print(\"First Element : \",lst[0])"
      ],
      "metadata": {
        "colab": {
          "base_uri": "https://localhost:8080/"
        },
        "id": "BtwMwkfA_82l",
        "outputId": "0c4b8e52-f9a8-4c4b-d208-415643c1e9e7"
      },
      "execution_count": null,
      "outputs": [
        {
          "output_type": "stream",
          "name": "stdout",
          "text": [
            "First Element :  1\n"
          ]
        }
      ]
    },
    {
      "cell_type": "code",
      "source": [
        "print(\"First 3 elements of list are : \",lst[0:3])"
      ],
      "metadata": {
        "colab": {
          "base_uri": "https://localhost:8080/"
        },
        "id": "xYbXZondAAks",
        "outputId": "fa3167ca-2b3c-41b5-858d-466192b85bc6"
      },
      "execution_count": null,
      "outputs": [
        {
          "output_type": "stream",
          "name": "stdout",
          "text": [
            "First 3 elements of list are :  [1, 2, 3]\n"
          ]
        }
      ]
    },
    {
      "cell_type": "code",
      "source": [
        "print(\"Last 3 elements of list : \",lst[-3:])"
      ],
      "metadata": {
        "colab": {
          "base_uri": "https://localhost:8080/"
        },
        "id": "aKXc9GfxAIVY",
        "outputId": "5eff906d-48cb-432a-a0b0-8f38b89f94c5"
      },
      "execution_count": null,
      "outputs": [
        {
          "output_type": "stream",
          "name": "stdout",
          "text": [
            "Last 3 elements of list :  [2, 3, 4]\n"
          ]
        }
      ]
    },
    {
      "cell_type": "code",
      "source": [
        "print(dir(lst))"
      ],
      "metadata": {
        "colab": {
          "base_uri": "https://localhost:8080/"
        },
        "id": "kP4averNARR8",
        "outputId": "f7d705b2-9437-43a4-8705-de22e1ca0bcb"
      },
      "execution_count": null,
      "outputs": [
        {
          "output_type": "stream",
          "name": "stdout",
          "text": [
            "['__add__', '__class__', '__class_getitem__', '__contains__', '__delattr__', '__delitem__', '__dir__', '__doc__', '__eq__', '__format__', '__ge__', '__getattribute__', '__getitem__', '__gt__', '__hash__', '__iadd__', '__imul__', '__init__', '__init_subclass__', '__iter__', '__le__', '__len__', '__lt__', '__mul__', '__ne__', '__new__', '__reduce__', '__reduce_ex__', '__repr__', '__reversed__', '__rmul__', '__setattr__', '__setitem__', '__sizeof__', '__str__', '__subclasshook__', 'append', 'clear', 'copy', 'count', 'extend', 'index', 'insert', 'pop', 'remove', 'reverse', 'sort']\n"
          ]
        }
      ]
    },
    {
      "cell_type": "code",
      "source": [
        "' , '.join(dir(lst))"
      ],
      "metadata": {
        "colab": {
          "base_uri": "https://localhost:8080/",
          "height": 139
        },
        "id": "utABLJuhAblC",
        "outputId": "ee20f743-0748-4e13-c89a-e60cd9f3e0c3"
      },
      "execution_count": null,
      "outputs": [
        {
          "output_type": "execute_result",
          "data": {
            "text/plain": [
              "'__add__ , __class__ , __class_getitem__ , __contains__ , __delattr__ , __delitem__ , __dir__ , __doc__ , __eq__ , __format__ , __ge__ , __getattribute__ , __getitem__ , __gt__ , __hash__ , __iadd__ , __imul__ , __init__ , __init_subclass__ , __iter__ , __le__ , __len__ , __lt__ , __mul__ , __ne__ , __new__ , __reduce__ , __reduce_ex__ , __repr__ , __reversed__ , __rmul__ , __setattr__ , __setitem__ , __sizeof__ , __str__ , __subclasshook__ , append , clear , copy , count , extend , index , insert , pop , remove , reverse , sort'"
            ],
            "application/vnd.google.colaboratory.intrinsic+json": {
              "type": "string"
            }
          },
          "metadata": {},
          "execution_count": 38
        }
      ]
    },
    {
      "cell_type": "code",
      "source": [
        "\" === \".join(dir(lst))"
      ],
      "metadata": {
        "colab": {
          "base_uri": "https://localhost:8080/",
          "height": 104
        },
        "id": "26dgwTC9pH_v",
        "outputId": "92791aa6-5b80-482d-d1bf-36664b252b7c"
      },
      "execution_count": null,
      "outputs": [
        {
          "output_type": "execute_result",
          "data": {
            "text/plain": [
              "'__add__ === __class__ === __class_getitem__ === __contains__ === __delattr__ === __delitem__ === __dir__ === __doc__ === __eq__ === __format__ === __ge__ === __getattribute__ === __getitem__ === __gt__ === __hash__ === __iadd__ === __imul__ === __init__ === __init_subclass__ === __iter__ === __le__ === __len__ === __lt__ === __mul__ === __ne__ === __new__ === __reduce__ === __reduce_ex__ === __repr__ === __reversed__ === __rmul__ === __setattr__ === __setitem__ === __sizeof__ === __str__ === __subclasshook__ === append === clear === copy === count === extend === index === insert === pop === remove === reverse === sort'"
            ],
            "application/vnd.google.colaboratory.intrinsic+json": {
              "type": "string"
            }
          },
          "metadata": {},
          "execution_count": 30
        }
      ]
    },
    {
      "cell_type": "code",
      "source": [
        "string.join(dir(lst))"
      ],
      "metadata": {
        "colab": {
          "base_uri": "https://localhost:8080/",
          "height": 156
        },
        "id": "lZ9Q-vhBphz2",
        "outputId": "62d14a12-7821-41bb-9f7e-8a5220de85ce"
      },
      "execution_count": null,
      "outputs": [
        {
          "output_type": "execute_result",
          "data": {
            "text/plain": [
              "'__add__Hi How are you?__class__Hi How are you?__class_getitem__Hi How are you?__contains__Hi How are you?__delattr__Hi How are you?__delitem__Hi How are you?__dir__Hi How are you?__doc__Hi How are you?__eq__Hi How are you?__format__Hi How are you?__ge__Hi How are you?__getattribute__Hi How are you?__getitem__Hi How are you?__gt__Hi How are you?__hash__Hi How are you?__iadd__Hi How are you?__imul__Hi How are you?__init__Hi How are you?__init_subclass__Hi How are you?__iter__Hi How are you?__le__Hi How are you?__len__Hi How are you?__lt__Hi How are you?__mul__Hi How are you?__ne__Hi How are you?__new__Hi How are you?__reduce__Hi How are you?__reduce_ex__Hi How are you?__repr__Hi How are you?__reversed__Hi How are you?__rmul__Hi How are you?__setattr__Hi How are you?__setitem__Hi How are you?__sizeof__Hi How are you?__str__Hi How are you?__subclasshook__Hi How are you?appendHi How are you?clearHi How are you?copyHi How are you?countHi How are you?extendHi How are you?indexHi How are you?insertHi How are you?popHi How are you?removeHi How are you?reverseHi How are you?sort'"
            ],
            "application/vnd.google.colaboratory.intrinsic+json": {
              "type": "string"
            }
          },
          "metadata": {},
          "execution_count": 32
        }
      ]
    },
    {
      "cell_type": "code",
      "source": [
        "help(lst.index)"
      ],
      "metadata": {
        "colab": {
          "base_uri": "https://localhost:8080/"
        },
        "id": "6VDdJryVAguK",
        "outputId": "19515370-ca03-4b43-f721-ed1d5f762a4f"
      },
      "execution_count": null,
      "outputs": [
        {
          "output_type": "stream",
          "name": "stdout",
          "text": [
            "Help on built-in function index:\n",
            "\n",
            "index(value, start=0, stop=9223372036854775807, /) method of builtins.list instance\n",
            "    Return first index of value.\n",
            "    \n",
            "    Raises ValueError if the value is not present.\n",
            "\n"
          ]
        }
      ]
    },
    {
      "cell_type": "code",
      "source": [
        "str2 = \"Monty Python ! And the holy Grail ! \\n\" + \"\\t \\t \\t \\t   ~Jaiiii\"\n",
        "print(str2)"
      ],
      "metadata": {
        "colab": {
          "base_uri": "https://localhost:8080/"
        },
        "id": "56PvZIM7AmJt",
        "outputId": "c02e817e-899e-4d87-b98f-fc61d646ea73"
      },
      "execution_count": null,
      "outputs": [
        {
          "output_type": "stream",
          "name": "stdout",
          "text": [
            "Monty Python ! And the holy Grail ! \n",
            "\t \t \t \t   ~Jaiiii\n"
          ]
        }
      ]
    },
    {
      "cell_type": "code",
      "source": [
        "print(str2.split())"
      ],
      "metadata": {
        "colab": {
          "base_uri": "https://localhost:8080/"
        },
        "id": "fS9ZAEXaA1SU",
        "outputId": "b15290a9-60cd-4595-9098-6b57eaaccae8"
      },
      "execution_count": null,
      "outputs": [
        {
          "output_type": "stream",
          "name": "stdout",
          "text": [
            "['Monty', 'Python', '!', 'And', 'the', 'holy', 'Grail', '!']\n"
          ]
        }
      ]
    },
    {
      "cell_type": "code",
      "source": [
        "print(str2.strip())"
      ],
      "metadata": {
        "colab": {
          "base_uri": "https://localhost:8080/"
        },
        "id": "ovDuV8SDA5tQ",
        "outputId": "498b12a4-a50b-4f61-e679-181f8ae3e14d"
      },
      "execution_count": null,
      "outputs": [
        {
          "output_type": "stream",
          "name": "stdout",
          "text": [
            "Monty Python ! And the holy Grail !\n"
          ]
        }
      ]
    },
    {
      "cell_type": "code",
      "source": [
        "print(str2.upper())"
      ],
      "metadata": {
        "colab": {
          "base_uri": "https://localhost:8080/"
        },
        "id": "ErpH4CKmA9a-",
        "outputId": "f3eb99d5-0ebf-40c6-843f-8d9bdaafc5ba"
      },
      "execution_count": null,
      "outputs": [
        {
          "output_type": "stream",
          "name": "stdout",
          "text": [
            "MONTY PYTHON ! AND THE HOLY GRAIL ! \n",
            "\n"
          ]
        }
      ]
    },
    {
      "cell_type": "code",
      "source": [
        "print(str2.replace(\"!\",''))"
      ],
      "metadata": {
        "colab": {
          "base_uri": "https://localhost:8080/"
        },
        "id": "WjSd2GsuBA8c",
        "outputId": "e8cc48c7-1d9d-45bb-b5dc-cede371ec444"
      },
      "execution_count": null,
      "outputs": [
        {
          "output_type": "stream",
          "name": "stdout",
          "text": [
            "Monty Python  And the holy Grail  \n",
            "\n"
          ]
        }
      ]
    },
    {
      "cell_type": "markdown",
      "source": [
        "Regular Expression"
      ],
      "metadata": {
        "id": "WG9nrdgABVK6"
      }
    },
    {
      "cell_type": "code",
      "source": [
        "import re"
      ],
      "metadata": {
        "id": "4LYA1rn4BKRg"
      },
      "execution_count": null,
      "outputs": []
    },
    {
      "cell_type": "code",
      "source": [
        "if re.search('Python',str2):\n",
        "  print(\"Found Python\")\n",
        "else:\n",
        "  print(\"Not Found\")"
      ],
      "metadata": {
        "colab": {
          "base_uri": "https://localhost:8080/"
        },
        "id": "xhUCHS36BQI1",
        "outputId": "82e8b8a5-aac8-45a6-9e4e-086f12bd683e"
      },
      "execution_count": null,
      "outputs": [
        {
          "output_type": "stream",
          "name": "stdout",
          "text": [
            "Found Python\n"
          ]
        }
      ]
    },
    {
      "cell_type": "code",
      "source": [
        "print(re.findall('!',str2))"
      ],
      "metadata": {
        "colab": {
          "base_uri": "https://localhost:8080/"
        },
        "id": "v59dNlB2BhQ-",
        "outputId": "05fb1def-b1e3-4af9-e5de-5d112f18ddd2"
      },
      "execution_count": null,
      "outputs": [
        {
          "output_type": "stream",
          "name": "stdout",
          "text": [
            "['!', '!']\n"
          ]
        }
      ]
    },
    {
      "cell_type": "code",
      "source": [
        "word_freq = {}\n",
        "for tok in  str2.split():\n",
        "  if tok in word_freq:\n",
        "    word_freq[tok]+=1\n",
        "  else:\n",
        "    word_freq[tok] = 1\n",
        "\n",
        "print(word_freq)"
      ],
      "metadata": {
        "colab": {
          "base_uri": "https://localhost:8080/"
        },
        "id": "69PLhqNmBnNL",
        "outputId": "5542cb5d-0a88-40a3-b9c7-4bd3e2ea9be5"
      },
      "execution_count": null,
      "outputs": [
        {
          "output_type": "stream",
          "name": "stdout",
          "text": [
            "{'Monty': 1, 'Python': 1, '!': 2, 'And': 1, 'the': 1, 'holy': 1, 'Grail': 1}\n"
          ]
        }
      ]
    },
    {
      "cell_type": "code",
      "source": [
        "res = {}\n",
        "for tok in str2.split():\n",
        "  if tok in res:\n",
        "    res[tok] +=1\n",
        "  else :\n",
        "    res[tok] = 1\n",
        "\n",
        "print(res)"
      ],
      "metadata": {
        "colab": {
          "base_uri": "https://localhost:8080/"
        },
        "id": "n-mZACebqY2d",
        "outputId": "80ffc28e-dd66-49fa-b82e-969f4628e779"
      },
      "execution_count": null,
      "outputs": [
        {
          "output_type": "stream",
          "name": "stdout",
          "text": [
            "{'Monty': 1, 'Python': 1, '!': 2, 'And': 1, 'the': 1, 'holy': 1, 'Grail': 1, '~Jaiiii': 1}\n"
          ]
        }
      ]
    },
    {
      "cell_type": "code",
      "source": [],
      "metadata": {
        "id": "6QywBv2mqomK"
      },
      "execution_count": null,
      "outputs": []
    }
  ]
}
